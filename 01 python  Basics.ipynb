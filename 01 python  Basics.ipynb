{
 "cells": [
  {
   "cell_type": "code",
   "execution_count": 1,
   "id": "fddf0417-5507-4d3a-aa7d-71bbab21fb78",
   "metadata": {},
   "outputs": [
    {
     "name": "stdout",
     "output_type": "stream",
     "text": [
      " Hello world \n"
     ]
    }
   ],
   "source": [
    "print (' Hello world ')\n"
   ]
  },
  {
   "cell_type": "code",
   "execution_count": 3,
   "id": "c259c13c-968e-4f37-90cc-bdc89b659a34",
   "metadata": {},
   "outputs": [
    {
     "name": "stdout",
     "output_type": "stream",
     "text": [
      "Hello world\n"
     ]
    }
   ],
   "source": [
    "print(\"Hello world\")"
   ]
  },
  {
   "cell_type": "code",
   "execution_count": 5,
   "id": "c6f1748a-76cb-4d64-aea5-7b23c0099a92",
   "metadata": {},
   "outputs": [
    {
     "ename": "SyntaxError",
     "evalue": "unterminated string literal (detected at line 1) (3109347247.py, line 1)",
     "output_type": "error",
     "traceback": [
      "\u001b[1;36m  Cell \u001b[1;32mIn[5], line 1\u001b[1;36m\u001b[0m\n\u001b[1;33m    print('Hello world\")\u001b[0m\n\u001b[1;37m          ^\u001b[0m\n\u001b[1;31mSyntaxError\u001b[0m\u001b[1;31m:\u001b[0m unterminated string literal (detected at line 1)\n"
     ]
    }
   ],
   "source": [
    "print('Hello world\")"
   ]
  },
  {
   "cell_type": "code",
   "execution_count": 7,
   "id": "3dc78058-3f05-49c4-ba22-270976cfdc3f",
   "metadata": {},
   "outputs": [
    {
     "name": "stdout",
     "output_type": "stream",
     "text": [
      " Hello world \n",
      " welcome \n",
      " Good Bye \n"
     ]
    }
   ],
   "source": [
    "print (' Hello world ')\n",
    "print (' welcome ')\n",
    "print (' Good Bye ')\n"
   ]
  },
  {
   "cell_type": "code",
   "execution_count": null,
   "id": "22dfe4c3-85c4-4be9-8eeb-ec646643840d",
   "metadata": {},
   "outputs": [],
   "source": []
  },
  {
   "cell_type": "code",
   "execution_count": 9,
   "id": "b3a39b37-9ad1-4d57-b6b8-87b0803bc66b",
   "metadata": {},
   "outputs": [
    {
     "name": "stdout",
     "output_type": "stream",
     "text": [
      " Hello world \n",
      " welcome \n",
      " Good Bye \n"
     ]
    }
   ],
   "source": [
    "print (' Hello world ')\n",
    "print (\" welcome \")\n",
    "print (' Good Bye ')\n"
   ]
  },
  {
   "cell_type": "code",
   "execution_count": 11,
   "id": "315f285e-c619-47a1-a764-5240dc8cdc56",
   "metadata": {},
   "outputs": [
    {
     "name": "stdout",
     "output_type": "stream",
     "text": [
      " Hello world \n",
      " welcome \n",
      " Good Bye \n"
     ]
    }
   ],
   "source": [
    "print (' Hello world ')\n",
    "print (\" welcome \")\n",
    "print (' Good Bye ')\n"
   ]
  },
  {
   "cell_type": "code",
   "execution_count": 13,
   "id": "36fb924c-905d-42dd-9f97-cceecba0526c",
   "metadata": {},
   "outputs": [
    {
     "ename": "SyntaxError",
     "evalue": "invalid syntax (3927885826.py, line 1)",
     "output_type": "error",
     "traceback": [
      "\u001b[1;36m  Cell \u001b[1;32mIn[13], line 1\u001b[1;36m\u001b[0m\n\u001b[1;33m    num 1 = 45\u001b[0m\n\u001b[1;37m        ^\u001b[0m\n\u001b[1;31mSyntaxError\u001b[0m\u001b[1;31m:\u001b[0m invalid syntax\n"
     ]
    }
   ],
   "source": [
    "num 1 = 45\n",
    "num 2 = 55\n",
    "print (add)"
   ]
  },
  {
   "cell_type": "code",
   "execution_count": 15,
   "id": "822b5519-b966-4bc1-bd3e-30182ac53fbd",
   "metadata": {},
   "outputs": [
    {
     "ename": "SyntaxError",
     "evalue": "invalid syntax (3073487360.py, line 1)",
     "output_type": "error",
     "traceback": [
      "\u001b[1;36m  Cell \u001b[1;32mIn[15], line 1\u001b[1;36m\u001b[0m\n\u001b[1;33m    num 1 = 45\u001b[0m\n\u001b[1;37m        ^\u001b[0m\n\u001b[1;31mSyntaxError\u001b[0m\u001b[1;31m:\u001b[0m invalid syntax\n"
     ]
    }
   ],
   "source": [
    "num 1 = 45\n",
    "num 2 = 55\n",
    "add = num1 + num2\n",
    "print (add)"
   ]
  },
  {
   "cell_type": "code",
   "execution_count": 17,
   "id": "5f2e8239-aedf-4620-92fe-8b8fd01c695a",
   "metadata": {},
   "outputs": [
    {
     "name": "stdout",
     "output_type": "stream",
     "text": [
      "100\n"
     ]
    }
   ],
   "source": [
    "num1 = 45\n",
    "num2 = 55\n",
    "add = num1 + num2\n",
    "print(add)"
   ]
  },
  {
   "cell_type": "code",
   "execution_count": 19,
   "id": "364179f4-5080-410c-a425-ef187d3b44a0",
   "metadata": {},
   "outputs": [
    {
     "ename": "SyntaxError",
     "evalue": "Missing parentheses in call to 'print'. Did you mean print(...)? (2971029673.py, line 5)",
     "output_type": "error",
     "traceback": [
      "\u001b[1;36m  Cell \u001b[1;32mIn[19], line 5\u001b[1;36m\u001b[0m\n\u001b[1;33m    print add\u001b[0m\n\u001b[1;37m    ^\u001b[0m\n\u001b[1;31mSyntaxError\u001b[0m\u001b[1;31m:\u001b[0m Missing parentheses in call to 'print'. Did you mean print(...)?\n"
     ]
    }
   ],
   "source": [
    "a = 1000\n",
    "b = 20000\n",
    "\n",
    "add = a + b\n",
    "print add"
   ]
  },
  {
   "cell_type": "code",
   "execution_count": 21,
   "id": "04ed0f23-9858-4897-8269-885a0c49b8cc",
   "metadata": {},
   "outputs": [
    {
     "ename": "IndentationError",
     "evalue": "unexpected indent (3303182883.py, line 5)",
     "output_type": "error",
     "traceback": [
      "\u001b[1;36m  Cell \u001b[1;32mIn[21], line 5\u001b[1;36m\u001b[0m\n\u001b[1;33m    add\u001b[0m\n\u001b[1;37m    ^\u001b[0m\n\u001b[1;31mIndentationError\u001b[0m\u001b[1;31m:\u001b[0m unexpected indent\n"
     ]
    }
   ],
   "source": [
    "a = 1000\n",
    "b = 20000\n",
    "\n",
    "add = a + b\n",
    " add"
   ]
  },
  {
   "cell_type": "code",
   "execution_count": 25,
   "id": "b39da5de-132f-4101-a889-94245615be53",
   "metadata": {},
   "outputs": [
    {
     "name": "stdout",
     "output_type": "stream",
     "text": [
      "21000\n"
     ]
    }
   ],
   "source": [
    "\n",
    "a = 1000\n",
    "b = 20000\n",
    "\n",
    "add = a + b\n",
    "print (add)\n"
   ]
  },
  {
   "cell_type": "code",
   "execution_count": 27,
   "id": "6c075ad0-eeb4-42fe-bdbd-d96174663524",
   "metadata": {},
   "outputs": [
    {
     "ename": "NameError",
     "evalue": "name 'sub' is not defined",
     "output_type": "error",
     "traceback": [
      "\u001b[1;31m---------------------------------------------------------------------------\u001b[0m",
      "\u001b[1;31mNameError\u001b[0m                                 Traceback (most recent call last)",
      "Cell \u001b[1;32mIn[27], line 4\u001b[0m\n\u001b[0;32m      2\u001b[0m b \u001b[38;5;241m=\u001b[39m \u001b[38;5;241m2000\u001b[39m\n\u001b[0;32m      3\u001b[0m c \u001b[38;5;241m=\u001b[39m a \u001b[38;5;241m-\u001b[39m b\n\u001b[1;32m----> 4\u001b[0m sub\n",
      "\u001b[1;31mNameError\u001b[0m: name 'sub' is not defined"
     ]
    }
   ],
   "source": [
    "a = 5000\n",
    "b = 2000\n",
    "c = a - b\n",
    "sub"
   ]
  },
  {
   "cell_type": "code",
   "execution_count": 29,
   "id": "22413480-eb50-4792-b990-cc357b6be1d5",
   "metadata": {},
   "outputs": [
    {
     "data": {
      "text/plain": [
       "3000"
      ]
     },
     "execution_count": 29,
     "metadata": {},
     "output_type": "execute_result"
    }
   ],
   "source": [
    "a = 5000\n",
    "b = 2000\n",
    "sub = a - b\n",
    "sub"
   ]
  },
  {
   "cell_type": "code",
   "execution_count": 31,
   "id": "23733130-9054-4d25-882d-c0282c61be04",
   "metadata": {},
   "outputs": [
    {
     "data": {
      "text/plain": [
       "5000000"
      ]
     },
     "execution_count": 31,
     "metadata": {},
     "output_type": "execute_result"
    }
   ],
   "source": [
    "a = 5000\n",
    "b = 1000\n",
    "mul = a * b\n",
    "mul"
   ]
  },
  {
   "cell_type": "code",
   "execution_count": 33,
   "id": "bbb00d3e-7ffc-4b93-9486-9a6013b7645a",
   "metadata": {},
   "outputs": [
    {
     "ename": "SyntaxError",
     "evalue": "invalid syntax (2101309248.py, line 1)",
     "output_type": "error",
     "traceback": [
      "\u001b[1;36m  Cell \u001b[1;32mIn[33], line 1\u001b[1;36m\u001b[0m\n\u001b[1;33m    pass = 1000\u001b[0m\n\u001b[1;37m         ^\u001b[0m\n\u001b[1;31mSyntaxError\u001b[0m\u001b[1;31m:\u001b[0m invalid syntax\n"
     ]
    }
   ],
   "source": [
    "pass = 1000"
   ]
  },
  {
   "cell_type": "code",
   "execution_count": 35,
   "id": "fbdf657d-e09e-4d81-bed7-b274596975db",
   "metadata": {},
   "outputs": [
    {
     "data": {
      "text/plain": [
       "int"
      ]
     },
     "execution_count": 35,
     "metadata": {},
     "output_type": "execute_result"
    }
   ],
   "source": [
    "num1 = 56\n",
    "type(num1)"
   ]
  },
  {
   "cell_type": "markdown",
   "id": "e34fe292-cdb5-434c-908a-0091615468aa",
   "metadata": {},
   "source": [
    "print(a)\n",
    "\n"
   ]
  },
  {
   "cell_type": "code",
   "execution_count": 54,
   "id": "ffbbc391-b4e9-4acc-8a38-dfc2a0373180",
   "metadata": {},
   "outputs": [
    {
     "data": {
      "text/plain": [
       "float"
      ]
     },
     "execution_count": 54,
     "metadata": {},
     "output_type": "execute_result"
    }
   ],
   "source": [
    "num1=56.36\n",
    "type(num1)"
   ]
  },
  {
   "cell_type": "code",
   "execution_count": 42,
   "id": "daf791ef-52df-4f86-8cce-4fd59c45db7b",
   "metadata": {},
   "outputs": [
    {
     "data": {
      "text/plain": [
       "float"
      ]
     },
     "execution_count": 42,
     "metadata": {},
     "output_type": "execute_result"
    }
   ],
   "source": [
    "num3=78.66666\n",
    "type(num3)"
   ]
  },
  {
   "cell_type": "code",
   "execution_count": 50,
   "id": "9b156cdf-faa5-4e12-bd13-7babc546b8d0",
   "metadata": {},
   "outputs": [],
   "source": [
    "text = \"1\""
   ]
  },
  {
   "cell_type": "code",
   "execution_count": 46,
   "id": "0e0f9662-f165-4250-975c-abe276937099",
   "metadata": {},
   "outputs": [
    {
     "data": {
      "text/plain": [
       "str"
      ]
     },
     "execution_count": 46,
     "metadata": {},
     "output_type": "execute_result"
    }
   ],
   "source": [
    "type(text)"
   ]
  },
  {
   "cell_type": "code",
   "execution_count": 52,
   "id": "26def401-5c1d-4486-a3d1-863c88ad5a3d",
   "metadata": {},
   "outputs": [
    {
     "data": {
      "text/plain": [
       "str"
      ]
     },
     "execution_count": 52,
     "metadata": {},
     "output_type": "execute_result"
    }
   ],
   "source": [
    "name = 'manju'\n",
    "type(name)\n"
   ]
  },
  {
   "cell_type": "code",
   "execution_count": 56,
   "id": "03cab9fa-70e8-4db6-974d-c66ceaef392c",
   "metadata": {},
   "outputs": [
    {
     "data": {
      "text/plain": [
       "3000"
      ]
     },
     "execution_count": 56,
     "metadata": {},
     "output_type": "execute_result"
    }
   ],
   "source": [
    "a = 5000\n",
    "b = 2000\n",
    "c = a - b\n",
    "sub"
   ]
  },
  {
   "cell_type": "code",
   "execution_count": 58,
   "id": "bbdd4651-dd95-44c7-b0bc-3e6157df76ed",
   "metadata": {},
   "outputs": [],
   "source": [
    "num1=56.36"
   ]
  },
  {
   "cell_type": "code",
   "execution_count": 60,
   "id": "2ed9cbda-3eba-4967-a7b0-f7755e9cbdc3",
   "metadata": {},
   "outputs": [
    {
     "data": {
      "text/plain": [
       "float"
      ]
     },
     "execution_count": 60,
     "metadata": {},
     "output_type": "execute_result"
    }
   ],
   "source": [
    "type(num1)"
   ]
  },
  {
   "cell_type": "code",
   "execution_count": 62,
   "id": "b692266c-d59f-4416-8f9f-80aaf476b0ba",
   "metadata": {},
   "outputs": [
    {
     "data": {
      "text/plain": [
       "float"
      ]
     },
     "execution_count": 62,
     "metadata": {},
     "output_type": "execute_result"
    }
   ],
   "source": [
    "a = 1000\n",
    "b=50.35\n",
    "add = a +  b\n",
    "add\n",
    "type(add)"
   ]
  },
  {
   "cell_type": "code",
   "execution_count": 70,
   "id": "86e268e0-b0ac-418c-84a7-02db4ed9751c",
   "metadata": {},
   "outputs": [
    {
     "name": "stdout",
     "output_type": "stream",
     "text": [
      "67\n"
     ]
    }
   ],
   "source": [
    "num1, num2, num3 = 67, 'Hello',29.46\n",
    "print(num1)"
   ]
  },
  {
   "cell_type": "code",
   "execution_count": 72,
   "id": "df0ffd81-aa49-4de1-8dd1-4104cc635122",
   "metadata": {},
   "outputs": [
    {
     "name": "stdout",
     "output_type": "stream",
     "text": [
      "Hello\n"
     ]
    }
   ],
   "source": [
    "print(num2)"
   ]
  },
  {
   "cell_type": "code",
   "execution_count": 74,
   "id": "e429277a-ef78-4206-bbb2-d56c8d71082e",
   "metadata": {},
   "outputs": [
    {
     "name": "stdout",
     "output_type": "stream",
     "text": [
      "29.46\n"
     ]
    }
   ],
   "source": [
    "print(num3)"
   ]
  },
  {
   "cell_type": "code",
   "execution_count": 76,
   "id": "e1a84639-1e5c-43b6-a89d-8006c8ff16ab",
   "metadata": {},
   "outputs": [
    {
     "name": "stdout",
     "output_type": "stream",
     "text": [
      "67 Hello 29.46\n"
     ]
    }
   ],
   "source": [
    "print(num1,num2,num3)"
   ]
  },
  {
   "cell_type": "code",
   "execution_count": 78,
   "id": "1af4a5ef-eca6-4e63-980b-8e4f2ecdda12",
   "metadata": {},
   "outputs": [
    {
     "name": "stdout",
     "output_type": "stream",
     "text": [
      "67\n"
     ]
    }
   ],
   "source": [
    "num1 = num2 = num3 =67\n",
    "print(num1)\n"
   ]
  },
  {
   "cell_type": "code",
   "execution_count": 80,
   "id": "14754479-31ee-4bf4-a22a-1e540e4d3556",
   "metadata": {},
   "outputs": [
    {
     "name": "stdout",
     "output_type": "stream",
     "text": [
      "67\n"
     ]
    }
   ],
   "source": [
    "print(num2)"
   ]
  },
  {
   "cell_type": "code",
   "execution_count": 82,
   "id": "b5c7a312-818c-4a28-aaae-4e2abfad4203",
   "metadata": {},
   "outputs": [
    {
     "name": "stdout",
     "output_type": "stream",
     "text": [
      "67\n"
     ]
    }
   ],
   "source": [
    "print(num3)"
   ]
  },
  {
   "cell_type": "code",
   "execution_count": 84,
   "id": "36b345eb-6871-4890-bd2f-a2bf213aa887",
   "metadata": {},
   "outputs": [
    {
     "name": "stdout",
     "output_type": "stream",
     "text": [
      "My name is Manju\n"
     ]
    }
   ],
   "source": [
    "name  = \"Manju\"\n",
    "Marks = 75.50\n",
    "print('My name is' , name)"
   ]
  },
  {
   "cell_type": "code",
   "execution_count": 86,
   "id": "1ba31105-a661-4fca-ac0c-e930ca51c9f8",
   "metadata": {},
   "outputs": [
    {
     "name": "stdout",
     "output_type": "stream",
     "text": [
      "My marks are 75.5\n"
     ]
    }
   ],
   "source": [
    "print(\"My marks are\", Marks)"
   ]
  },
  {
   "cell_type": "code",
   "execution_count": 88,
   "id": "dfe93dc3-749e-4d3e-b68d-2bd181d6be27",
   "metadata": {},
   "outputs": [
    {
     "name": "stdout",
     "output_type": "stream",
     "text": [
      "My name is Manju and marks are: 75.5\n"
     ]
    }
   ],
   "source": [
    "print('My name is', name , 'and marks are:', Marks )"
   ]
  },
  {
   "cell_type": "code",
   "execution_count": 90,
   "id": "21e72e08-2de3-4f7d-ab3d-bfd9e283f8cb",
   "metadata": {},
   "outputs": [
    {
     "name": "stdout",
     "output_type": "stream",
     "text": [
      "My name is Manju My marks are: 75.5\n"
     ]
    }
   ],
   "source": [
    "print('My name is', name , \"My marks are:\", Marks)"
   ]
  },
  {
   "cell_type": "code",
   "execution_count": 92,
   "id": "facd2027-2620-4762-aff4-b1509be3138f",
   "metadata": {},
   "outputs": [
    {
     "ename": "SyntaxError",
     "evalue": "invalid syntax. Perhaps you forgot a comma? (2072844715.py, line 1)",
     "output_type": "error",
     "traceback": [
      "\u001b[1;36m  Cell \u001b[1;32mIn[92], line 1\u001b[1;36m\u001b[0m\n\u001b[1;33m    print('My name is'and My marks are : %f' %(name, Marks))\u001b[0m\n\u001b[1;37m          ^\u001b[0m\n\u001b[1;31mSyntaxError\u001b[0m\u001b[1;31m:\u001b[0m invalid syntax. Perhaps you forgot a comma?\n"
     ]
    }
   ],
   "source": [
    "print('My name is'and My marks are : %f' %(name, Marks)) "
   ]
  },
  {
   "cell_type": "code",
   "execution_count": 94,
   "id": "9379ef92-1eec-4d2a-aee0-5376de330f80",
   "metadata": {},
   "outputs": [
    {
     "ename": "TypeError",
     "evalue": "must be real number, not str",
     "output_type": "error",
     "traceback": [
      "\u001b[1;31m---------------------------------------------------------------------------\u001b[0m",
      "\u001b[1;31mTypeError\u001b[0m                                 Traceback (most recent call last)",
      "Cell \u001b[1;32mIn[94], line 1\u001b[0m\n\u001b[1;32m----> 1\u001b[0m \u001b[38;5;28mprint\u001b[39m(\u001b[38;5;124m'\u001b[39m\u001b[38;5;124mMy name is and My marks are : \u001b[39m\u001b[38;5;132;01m%f\u001b[39;00m\u001b[38;5;124m'\u001b[39m \u001b[38;5;241m%\u001b[39m(name, Marks))\n",
      "\u001b[1;31mTypeError\u001b[0m: must be real number, not str"
     ]
    }
   ],
   "source": [
    "print('My name is and My marks are : %f' %(name, Marks)) "
   ]
  },
  {
   "cell_type": "code",
   "execution_count": 96,
   "id": "e73315a6-1c1d-48e5-a527-eba74a599c5c",
   "metadata": {},
   "outputs": [
    {
     "name": "stdout",
     "output_type": "stream",
     "text": [
      "My name is Manju and My marks are : 75.500000\n"
     ]
    }
   ],
   "source": [
    "print('My name is %s and My marks are : %f' %(name, Marks)) "
   ]
  },
  {
   "cell_type": "code",
   "execution_count": 98,
   "id": "b9629bab-1b9d-41d4-b97e-d9a38f186fd5",
   "metadata": {},
   "outputs": [
    {
     "ename": "NameError",
     "evalue": "name 'marks' is not defined",
     "output_type": "error",
     "traceback": [
      "\u001b[1;31m---------------------------------------------------------------------------\u001b[0m",
      "\u001b[1;31mNameError\u001b[0m                                 Traceback (most recent call last)",
      "Cell \u001b[1;32mIn[98], line 1\u001b[0m\n\u001b[1;32m----> 1\u001b[0m \u001b[38;5;28mprint\u001b[39m (\u001b[38;5;124m'\u001b[39m\u001b[38;5;124mMy name is \u001b[39m\u001b[38;5;132;01m%s\u001b[39;00m\u001b[38;5;124m and my marks are : \u001b[39m\u001b[38;5;132;01m%f\u001b[39;00m\u001b[38;5;124m'\u001b[39m \u001b[38;5;241m%\u001b[39m(name,marks))\n",
      "\u001b[1;31mNameError\u001b[0m: name 'marks' is not defined"
     ]
    }
   ],
   "source": [
    "print ('My name is %s and my marks are : %f' %(name,marks))"
   ]
  },
  {
   "cell_type": "code",
   "execution_count": 100,
   "id": "096e1ada-bd3d-4afd-b005-3d5fcf1aaf4d",
   "metadata": {},
   "outputs": [
    {
     "name": "stdout",
     "output_type": "stream",
     "text": [
      "My name is Manju and my marks are : 75.500000\n"
     ]
    }
   ],
   "source": [
    "print ('My name is %s and my marks are : %f' %(name,Marks))"
   ]
  },
  {
   "cell_type": "code",
   "execution_count": 102,
   "id": "b9b2633b-a1a8-4dfd-8e55-cc46640c3f53",
   "metadata": {},
   "outputs": [
    {
     "ename": "NameError",
     "evalue": "name 'marks' is not defined",
     "output_type": "error",
     "traceback": [
      "\u001b[1;31m---------------------------------------------------------------------------\u001b[0m",
      "\u001b[1;31mNameError\u001b[0m                                 Traceback (most recent call last)",
      "Cell \u001b[1;32mIn[102], line 1\u001b[0m\n\u001b[1;32m----> 1\u001b[0m \u001b[38;5;28mprint\u001b[39m (\u001b[38;5;124m'\u001b[39m\u001b[38;5;124mMy name is \u001b[39m\u001b[38;5;132;01m%s\u001b[39;00m\u001b[38;5;124m and my marks are : \u001b[39m\u001b[38;5;132;01m%.1f\u001b[39;00m\u001b[38;5;124m'\u001b[39m \u001b[38;5;241m%\u001b[39m(name,marks))\n",
      "\u001b[1;31mNameError\u001b[0m: name 'marks' is not defined"
     ]
    }
   ],
   "source": [
    "print ('My name is %s and my marks are : %.1f' %(name,marks))"
   ]
  },
  {
   "cell_type": "code",
   "execution_count": 104,
   "id": "497b8e44-7ffa-4682-92b9-a2cc94b6ad0b",
   "metadata": {},
   "outputs": [
    {
     "name": "stdout",
     "output_type": "stream",
     "text": [
      "My name is Manju and my marks are : 75.5\n"
     ]
    }
   ],
   "source": [
    "print ('My name is %s and my marks are : %.1f' %(name,Marks))"
   ]
  },
  {
   "cell_type": "code",
   "execution_count": 106,
   "id": "d3ebc37d-c8c9-4c30-bd1b-49dc659c435b",
   "metadata": {},
   "outputs": [
    {
     "name": "stdout",
     "output_type": "stream",
     "text": [
      "My name is Manju and my marks are : 75\n"
     ]
    }
   ],
   "source": [
    "print ('My name is %s and my marks are : %i' %(name,Marks))"
   ]
  },
  {
   "cell_type": "code",
   "execution_count": 108,
   "id": "e954f9b5-eff7-4d3d-9b82-323f61145adb",
   "metadata": {},
   "outputs": [
    {
     "name": "stdout",
     "output_type": "stream",
     "text": [
      "Addition is: 100\n"
     ]
    }
   ],
   "source": [
    "num1 = 45\n",
    "num2 = 55\n",
    "add = num1 + num2\n",
    "print('Addition is:', add)"
   ]
  },
  {
   "cell_type": "code",
   "execution_count": 110,
   "id": "967febc6-2300-4b2f-a197-af27481eca6c",
   "metadata": {},
   "outputs": [
    {
     "name": "stdout",
     "output_type": "stream",
     "text": [
      "Addition is: 100\n"
     ]
    }
   ],
   "source": [
    "# This is my first program \n",
    "num1 = 45   # Number 1 \n",
    "num2 = 55   # Number 2\n",
    "add = num1 + num2 # perform addition\n",
    "print('Addition is:', add)"
   ]
  },
  {
   "cell_type": "code",
   "execution_count": 112,
   "id": "6e721b4a-41fd-4e0b-8bd2-b8cb5f95c38e",
   "metadata": {},
   "outputs": [
    {
     "name": "stdout",
     "output_type": "stream",
     "text": [
      "Addition is: 100\n"
     ]
    }
   ],
   "source": [
    "num1 = 45; num2 = 55 ; add = num1 + num2 ; print('Addition is:', add)"
   ]
  },
  {
   "cell_type": "markdown",
   "id": "5807a68a-a22e-40b9-91ce-195cb45caa9f",
   "metadata": {},
   "source": [
    "####Opertors "
   ]
  },
  {
   "cell_type": "markdown",
   "id": "e062a84a-74de-4e0a-8c53-dfa8953a3a35",
   "metadata": {},
   "source": []
  },
  {
   "cell_type": "code",
   "execution_count": 117,
   "id": "9a17c148-3cb5-4c04-939f-631e0a047dc3",
   "metadata": {},
   "outputs": [],
   "source": [
    "### Opertors"
   ]
  },
  {
   "cell_type": "markdown",
   "id": "4f5201da-51ce-4a21-9de6-7c13568f3b0f",
   "metadata": {},
   "source": [
    "### Opertors "
   ]
  },
  {
   "cell_type": "markdown",
   "id": "a38d8c10-fed7-489c-903d-2b22925e93c1",
   "metadata": {},
   "source": [
    "#### Opertors"
   ]
  },
  {
   "cell_type": "markdown",
   "id": "e4a50062-9c42-4e8b-8b07-445e4ea8b40d",
   "metadata": {},
   "source": [
    "###### Opertors"
   ]
  },
  {
   "cell_type": "code",
   "execution_count": 126,
   "id": "c6933991-0b99-4e93-b3d2-ae80da16ec4c",
   "metadata": {},
   "outputs": [],
   "source": [
    "num1 = 67\n",
    "num2 = 19\n"
   ]
  },
  {
   "cell_type": "code",
   "execution_count": 132,
   "id": "f96ccdb9-d864-4acb-af19-f9c7667775d3",
   "metadata": {},
   "outputs": [
    {
     "name": "stdout",
     "output_type": "stream",
     "text": [
      "addition is: 86\n",
      "Subtraction is: 48\n",
      "Multiplication is: 1273\n",
      "Division is: 3.526315789473684\n",
      "Floor Division is 3\n",
      "Modulo Division is 10\n",
      "Raised to: 49593099428404263766544428188098203\n"
     ]
    }
   ],
   "source": [
    "# Arimetic opertors\n",
    "add = num1 + num2 # Addition\n",
    "print('addition is:', add) \n",
    "print('Subtraction is:', num1 - num2) # subtraction\n",
    "print('Multiplication is:', num1 * num2) # multiplication\n",
    "print('Division is:', num1/num2)   # Division\n",
    "print('Floor Division is', num1//num2) # Floor\n",
    "print('Modulo Division is', num1%num2) # modulo division\n",
    "print('Raised to:', num1**num2)  # power "
   ]
  },
  {
   "cell_type": "code",
   "execution_count": 140,
   "id": "aefd894f-a743-4d86-86d3-a8f955fb8210",
   "metadata": {},
   "outputs": [
    {
     "name": "stdout",
     "output_type": "stream",
     "text": [
      "69\n"
     ]
    }
   ],
   "source": [
    "# assignment operator\n",
    "\n",
    "Num1 = 67 \n",
    "num1 += 2\n",
    "num1 -= 2\n",
    "print(num1)\n"
   ]
  },
  {
   "cell_type": "code",
   "execution_count": 162,
   "id": "4ea0330d-1151-403e-9197-2faf0fe2cd67",
   "metadata": {},
   "outputs": [
    {
     "name": "stdout",
     "output_type": "stream",
     "text": [
      "1.0\n"
     ]
    }
   ],
   "source": [
    "# assignment operator\n",
    "\n",
    "num1 = 67 \n",
    "num1 += 2\n",
    "num1 -= 2\n",
    "num1 /=2\n",
    "num1 *=2\n",
    "num1 //=2\n",
    "num1 %=2\n",
    "num1 **=2\n",
    "print(num1)\n"
   ]
  },
  {
   "cell_type": "code",
   "execution_count": 166,
   "id": "23c80cd6-4b88-454d-945f-4384142dbe1a",
   "metadata": {},
   "outputs": [
    {
     "name": "stdout",
     "output_type": "stream",
     "text": [
      "67\n"
     ]
    }
   ],
   "source": [
    "num1 = 67\n",
    "print(num1)\n"
   ]
  },
  {
   "cell_type": "code",
   "execution_count": 170,
   "id": "bb8f2a3a-1c2f-46d3-ab85-1bfb9add5767",
   "metadata": {},
   "outputs": [
    {
     "name": "stdout",
     "output_type": "stream",
     "text": [
      "71\n"
     ]
    }
   ],
   "source": [
    "num1 +=2\n",
    "print(num1)"
   ]
  },
  {
   "cell_type": "code",
   "execution_count": 172,
   "id": "ed4b961c-9825-4c82-b472-5a8bdbc8ad7c",
   "metadata": {},
   "outputs": [
    {
     "name": "stdout",
     "output_type": "stream",
     "text": [
      "69\n"
     ]
    }
   ],
   "source": [
    "num1 -=2\n",
    "print(num1)"
   ]
  },
  {
   "cell_type": "code",
   "execution_count": 174,
   "id": "da226e37-1410-4a55-8c26-6927cd510492",
   "metadata": {},
   "outputs": [
    {
     "name": "stdout",
     "output_type": "stream",
     "text": [
      "34.5\n"
     ]
    }
   ],
   "source": [
    "num1 /=2\n",
    "print(num1)"
   ]
  },
  {
   "cell_type": "code",
   "execution_count": 176,
   "id": "0b1e2648-29e4-4721-91e2-8e987238dbda",
   "metadata": {},
   "outputs": [
    {
     "name": "stdout",
     "output_type": "stream",
     "text": [
      "69.0\n"
     ]
    }
   ],
   "source": [
    "num1 *=2\n",
    "print(num1)"
   ]
  },
  {
   "cell_type": "code",
   "execution_count": 178,
   "id": "adf3fb77-1381-4abb-8e5c-54bab138f47e",
   "metadata": {},
   "outputs": [
    {
     "name": "stdout",
     "output_type": "stream",
     "text": [
      "34.0\n"
     ]
    }
   ],
   "source": [
    "num1 //=2\n",
    "print(num1)"
   ]
  },
  {
   "cell_type": "code",
   "execution_count": 180,
   "id": "06f0b45e-501b-4d16-88f6-99cd774c6e86",
   "metadata": {},
   "outputs": [
    {
     "name": "stdout",
     "output_type": "stream",
     "text": [
      "0.0\n"
     ]
    }
   ],
   "source": [
    "num1 %=2\n",
    "print(num1)"
   ]
  },
  {
   "cell_type": "code",
   "execution_count": 182,
   "id": "0dfb5dd7-51d3-4460-b47a-ef56f6664eb6",
   "metadata": {},
   "outputs": [
    {
     "name": "stdout",
     "output_type": "stream",
     "text": [
      "0.0\n"
     ]
    }
   ],
   "source": [
    "num1 **=2\n",
    "print(num1)"
   ]
  },
  {
   "cell_type": "code",
   "execution_count": 188,
   "id": "86ee030c-1c64-4296-9ce7-fc5ce7afec84",
   "metadata": {},
   "outputs": [
    {
     "name": "stdout",
     "output_type": "stream",
     "text": [
      "manjumanjumanjumanju\n"
     ]
    }
   ],
   "source": [
    "name = \"manju\"\n",
    "name *=4\n",
    "print (name)"
   ]
  },
  {
   "cell_type": "raw",
   "id": "aaf260a4-ba54-4521-9310-604c4b00d01e",
   "metadata": {},
   "source": [
    "mchar = 0\n",
    "mchar1 = 0\n",
    "print (\"value =\",mchar == mchar1)"
   ]
  },
  {
   "cell_type": "code",
   "execution_count": 190,
   "id": "5f6b9722-a25e-48da-8fb4-af05b067bdc2",
   "metadata": {},
   "outputs": [
    {
     "name": "stdout",
     "output_type": "stream",
     "text": [
      "AND: True\n"
     ]
    }
   ],
   "source": [
    "# logical Operators\n",
    "num1= 67\n",
    "num2= 19\n",
    "print('AND:', (num1 > num2) and ( num1 < 100))"
   ]
  },
  {
   "cell_type": "code",
   "execution_count": 198,
   "id": "7208d44a-03b9-484d-99f0-11870503eece",
   "metadata": {},
   "outputs": [
    {
     "name": "stdout",
     "output_type": "stream",
     "text": [
      "OR: True\n"
     ]
    }
   ],
   "source": [
    "print('OR:', (num1 > num2) or ( num1 > 100))"
   ]
  },
  {
   "cell_type": "code",
   "execution_count": 202,
   "id": "d72faeb9-6dbe-44f9-a134-da2250fabee3",
   "metadata": {},
   "outputs": [
    {
     "name": "stdout",
     "output_type": "stream",
     "text": [
      "value = True\n"
     ]
    }
   ],
   "source": [
    "mchar = 0\n",
    "mchar1 = 0\n",
    "print (\"value =\",mchar == mchar1)"
   ]
  },
  {
   "cell_type": "code",
   "execution_count": 206,
   "id": "cac7e23e-e256-41f8-ae97-3fe7963b4484",
   "metadata": {},
   "outputs": [
    {
     "name": "stdout",
     "output_type": "stream",
     "text": [
      "value = True\n"
     ]
    }
   ],
   "source": [
    "mchar = 0\n",
    "mchar1 = 0\n",
    "print (\"value =\",mchar == mchar1)"
   ]
  },
  {
   "cell_type": "code",
   "execution_count": 208,
   "id": "25d25b8d-b93f-4137-a5ff-ba226247e229",
   "metadata": {},
   "outputs": [
    {
     "data": {
      "text/plain": [
       "True"
      ]
     },
     "execution_count": 208,
     "metadata": {},
     "output_type": "execute_result"
    }
   ],
   "source": [
    "# Membership selection\n",
    "name = 'Manju'\n",
    "'u' in name"
   ]
  },
  {
   "cell_type": "code",
   "execution_count": 210,
   "id": "dc49a4f0-8c79-45cd-bca0-67fe2a848e0b",
   "metadata": {},
   "outputs": [
    {
     "data": {
      "text/plain": [
       "False"
      ]
     },
     "execution_count": 210,
     "metadata": {},
     "output_type": "execute_result"
    }
   ],
   "source": [
    "x = [5,4,2,5,6,7]\n",
    "9 in x"
   ]
  },
  {
   "cell_type": "code",
   "execution_count": 212,
   "id": "746304a4-711a-4464-beeb-7a256a791900",
   "metadata": {},
   "outputs": [
    {
     "data": {
      "text/plain": [
       "True"
      ]
     },
     "execution_count": 212,
     "metadata": {},
     "output_type": "execute_result"
    }
   ],
   "source": [
    "19 not in x\n"
   ]
  },
  {
   "cell_type": "code",
   "execution_count": 214,
   "id": "b0bb35b2-2094-4868-8da2-6b5ebad7ad2a",
   "metadata": {},
   "outputs": [
    {
     "ename": "NameError",
     "evalue": "name 'Mumbai' is not defined",
     "output_type": "error",
     "traceback": [
      "\u001b[1;31m---------------------------------------------------------------------------\u001b[0m",
      "\u001b[1;31mNameError\u001b[0m                                 Traceback (most recent call last)",
      "Cell \u001b[1;32mIn[214], line 2\u001b[0m\n\u001b[0;32m      1\u001b[0m x \u001b[38;5;241m=\u001b[39m [\u001b[38;5;241m5\u001b[39m,\u001b[38;5;241m4\u001b[39m,\u001b[38;5;124m'\u001b[39m\u001b[38;5;124mPune\u001b[39m\u001b[38;5;124m'\u001b[39m,\u001b[38;5;241m5\u001b[39m,\u001b[38;5;241m6\u001b[39m,\u001b[38;5;241m7\u001b[39m]\n\u001b[1;32m----> 2\u001b[0m Mumbai \u001b[38;5;129;01min\u001b[39;00m x\n",
      "\u001b[1;31mNameError\u001b[0m: name 'Mumbai' is not defined"
     ]
    }
   ],
   "source": [
    "x = [5,4,'Pune',5,6,7]\n",
    "Mumbai in x"
   ]
  },
  {
   "cell_type": "code",
   "execution_count": 216,
   "id": "2f4f48d7-4aba-41f2-826b-68433ad29b63",
   "metadata": {},
   "outputs": [
    {
     "data": {
      "text/plain": [
       "False"
      ]
     },
     "execution_count": 216,
     "metadata": {},
     "output_type": "execute_result"
    }
   ],
   "source": [
    "x = [5,4,'Pune',5,6,7]\n",
    "'Mumbai' in x"
   ]
  },
  {
   "cell_type": "code",
   "execution_count": 220,
   "id": "7f5745e1-1e01-4135-9693-9c7fcb44c021",
   "metadata": {},
   "outputs": [
    {
     "data": {
      "text/plain": [
       "True"
      ]
     },
     "execution_count": 220,
     "metadata": {},
     "output_type": "execute_result"
    }
   ],
   "source": [
    "x = [5,4,'Pune',5,6,7]\n",
    "'Pune' in x"
   ]
  },
  {
   "cell_type": "code",
   "execution_count": 222,
   "id": "4265b370-9b8b-43aa-b119-60c5061f1f52",
   "metadata": {},
   "outputs": [
    {
     "name": "stdin",
     "output_type": "stream",
     "text": [
      "Enter the number:  89\n"
     ]
    },
    {
     "name": "stdout",
     "output_type": "stream",
     "text": [
      "You have entered 89\n"
     ]
    }
   ],
   "source": [
    "#### user input\n",
    "num = input('Enter the number: ')\n",
    "print('You have entered', num)"
   ]
  },
  {
   "cell_type": "code",
   "execution_count": 224,
   "id": "5023fee0-a1a2-49b8-a680-a68808b8c35b",
   "metadata": {},
   "outputs": [
    {
     "data": {
      "text/plain": [
       "str"
      ]
     },
     "execution_count": 224,
     "metadata": {},
     "output_type": "execute_result"
    }
   ],
   "source": [
    "type(num)"
   ]
  },
  {
   "cell_type": "code",
   "execution_count": 226,
   "id": "c0f389b6-f402-41e0-90bd-441b5e7c022a",
   "metadata": {},
   "outputs": [
    {
     "name": "stdin",
     "output_type": "stream",
     "text": [
      "Enter the number:  mandadfhfh\n"
     ]
    },
    {
     "name": "stdout",
     "output_type": "stream",
     "text": [
      "You have entered mandadfhfh\n"
     ]
    }
   ],
   "source": [
    "num = input('Enter the number: ')\n",
    "print('You have entered', num)\n"
   ]
  },
  {
   "cell_type": "code",
   "execution_count": 236,
   "id": "ed30f7a4-2a43-4a9c-a8fc-1086320bc0f9",
   "metadata": {},
   "outputs": [
    {
     "name": "stdin",
     "output_type": "stream",
     "text": [
      "Enter the number:  767676.889\n"
     ]
    },
    {
     "name": "stdout",
     "output_type": "stream",
     "text": [
      "You have entered 767676.889\n"
     ]
    },
    {
     "data": {
      "text/plain": [
       "str"
      ]
     },
     "execution_count": 236,
     "metadata": {},
     "output_type": "execute_result"
    }
   ],
   "source": [
    "num = input('Enter the number: ')\n",
    "print('You have entered', num)\n",
    "type(num)"
   ]
  },
  {
   "cell_type": "code",
   "execution_count": 238,
   "id": "62c4941e-4dbe-4762-bbe2-634957a4dbe5",
   "metadata": {},
   "outputs": [
    {
     "name": "stdin",
     "output_type": "stream",
     "text": [
      "Enter the number:  100\n"
     ]
    },
    {
     "name": "stdout",
     "output_type": "stream",
     "text": [
      "You have entered 100100100\n"
     ]
    }
   ],
   "source": [
    "num = input('Enter the number: ')\n",
    "result = num * 3 \n",
    "print('You have entered', result)\n"
   ]
  },
  {
   "cell_type": "code",
   "execution_count": 240,
   "id": "3e025f2d-df0c-466a-bcca-35f738f7113d",
   "metadata": {},
   "outputs": [
    {
     "name": "stdin",
     "output_type": "stream",
     "text": [
      "Enter the number:  100\n"
     ]
    },
    {
     "name": "stdout",
     "output_type": "stream",
     "text": [
      "You have entered 300\n"
     ]
    }
   ],
   "source": [
    "num = int(input('Enter the number: '))\n",
    "result = num * 3 \n",
    "print('You have entered', result)"
   ]
  },
  {
   "cell_type": "code",
   "execution_count": 242,
   "id": "44afa17d-84be-4947-b549-d3b356a4ed0a",
   "metadata": {},
   "outputs": [
    {
     "name": "stdin",
     "output_type": "stream",
     "text": [
      "Enter the number:  100.25\n"
     ]
    },
    {
     "name": "stdout",
     "output_type": "stream",
     "text": [
      "You have entered 300.75\n"
     ]
    }
   ],
   "source": [
    "num = float (input('Enter the number: '))\n",
    "result = num * 3 \n",
    "print('You have entered', result)"
   ]
  },
  {
   "cell_type": "code",
   "execution_count": 244,
   "id": "8d9293b3-54bf-4d72-97bb-8b2319c98866",
   "metadata": {},
   "outputs": [
    {
     "name": "stdin",
     "output_type": "stream",
     "text": [
      "Enter first  number:  100\n",
      "Enter first  number:  200\n"
     ]
    },
    {
     "name": "stdout",
     "output_type": "stream",
     "text": [
      "Addition is 300\n"
     ]
    }
   ],
   "source": [
    "num1 = int (input('Enter first  number: '))\n",
    "num2 = int (input('Enter first  number: '))\n",
    "add = num1 + num2 \n",
    "print('Addition is', add)"
   ]
  },
  {
   "cell_type": "code",
   "execution_count": 246,
   "id": "5d17df0f-dce1-4b1c-bc23-d73af219bbcd",
   "metadata": {},
   "outputs": [
    {
     "name": "stdin",
     "output_type": "stream",
     "text": [
      "Enter first  number:  100\n",
      "Enter first  number:  100\n"
     ]
    },
    {
     "name": "stdout",
     "output_type": "stream",
     "text": [
      "Multiplication is 10000\n"
     ]
    }
   ],
   "source": [
    "num1 = int (input('Enter first  number: '))\n",
    "num2 = int (input('Enter first  number: '))\n",
    "mul = num1 * num2 \n",
    "print('Multiplication is', mul)"
   ]
  },
  {
   "cell_type": "code",
   "execution_count": 248,
   "id": "968265a6-1e55-4399-867c-8d260489f599",
   "metadata": {},
   "outputs": [
    {
     "name": "stdin",
     "output_type": "stream",
     "text": [
      "Enter value of c:  100\n"
     ]
    },
    {
     "name": "stdout",
     "output_type": "stream",
     "text": [
      "f 212.0\n"
     ]
    }
   ],
   "source": [
    "\n",
    "num1 = int (input('Enter value of c: '))\n",
    "f = num1* 1.8 + 32\n",
    "print ( 'f', f)\n"
   ]
  },
  {
   "cell_type": "code",
   "execution_count": 250,
   "id": "9c3e7e2a-b53d-4bad-af3f-33118740eaa9",
   "metadata": {},
   "outputs": [
    {
     "name": "stdin",
     "output_type": "stream",
     "text": [
      "Enter value of c:  37\n"
     ]
    },
    {
     "name": "stdout",
     "output_type": "stream",
     "text": [
      "f 98.60000000000001\n"
     ]
    }
   ],
   "source": [
    "num1 = int (input('Enter value of c: '))\n",
    "f = num1* 1.8 + 32\n",
    "print ( 'f', f)\n",
    "\n"
   ]
  },
  {
   "cell_type": "code",
   "execution_count": 252,
   "id": "b3c7395c-97d7-4048-b45a-cb29b3366e5c",
   "metadata": {},
   "outputs": [
    {
     "name": "stdin",
     "output_type": "stream",
     "text": [
      "Enter value of c:  -14\n"
     ]
    },
    {
     "name": "stdout",
     "output_type": "stream",
     "text": [
      "f 6.800000000000001\n"
     ]
    }
   ],
   "source": [
    "num1 = int (input('Enter value of c: '))\n",
    "f = num1* 1.8 + 32\n",
    "print ( 'f', f)\n"
   ]
  },
  {
   "cell_type": "markdown",
   "id": "8cece45f-0b68-4517-8705-08ee819c77de",
   "metadata": {},
   "source": [
    " num1 = int (input('Enter value of c: '))\n",
    "f = num1* 1.8 + 32\n",
    "print ( 'f', f)\n"
   ]
  },
  {
   "cell_type": "code",
   "execution_count": 256,
   "id": "5fc13daa-7bf9-47cd-bba3-5c51b6704d88",
   "metadata": {},
   "outputs": [
    {
     "name": "stdin",
     "output_type": "stream",
     "text": [
      "Enter value of c:  -40\n"
     ]
    },
    {
     "name": "stdout",
     "output_type": "stream",
     "text": [
      "f -40.0\n"
     ]
    }
   ],
   "source": [
    "num1 = int (input( 'Enter value of c: '))\n",
    "f = num1* 1.8 + 32\n",
    "print ( 'f', f)"
   ]
  },
  {
   "cell_type": "code",
   "execution_count": null,
   "id": "70da81e6-5c3d-4277-9ab3-95df429417bd",
   "metadata": {},
   "outputs": [],
   "source": []
  }
 ],
 "metadata": {
  "kernelspec": {
   "display_name": "Python 3 (ipykernel)",
   "language": "python",
   "name": "python3"
  },
  "language_info": {
   "codemirror_mode": {
    "name": "ipython",
    "version": 3
   },
   "file_extension": ".py",
   "mimetype": "text/x-python",
   "name": "python",
   "nbconvert_exporter": "python",
   "pygments_lexer": "ipython3",
   "version": "3.12.4"
  }
 },
 "nbformat": 4,
 "nbformat_minor": 5
}
