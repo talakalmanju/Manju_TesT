{
 "cells": [
  {
   "cell_type": "code",
   "execution_count": 1,
   "id": "b1e9563f-a8f5-4513-9a5d-7494859f0f6d",
   "metadata": {},
   "outputs": [
    {
     "name": "stdin",
     "output_type": "stream",
     "text": [
      "Enter the value of cels: 38\n"
     ]
    },
    {
     "name": "stdout",
     "output_type": "stream",
     "text": [
      "The value of the ferh of the cels: 100.4\n"
     ]
    }
   ],
   "source": [
    "cels = float(input('Enter the value of cels:'))\n",
    "ferh = ( cels * 1.8 ) + 32\n",
    "print('The value of the ferh of the cels:',ferh)\n"
   ]
  },
  {
   "cell_type": "code",
   "execution_count": 7,
   "id": "2815ea1c-9d58-4340-b736-c72dac95212f",
   "metadata": {},
   "outputs": [
    {
     "name": "stdin",
     "output_type": "stream",
     "text": [
      "Enter the radius of the circle:  100\n"
     ]
    },
    {
     "name": "stdout",
     "output_type": "stream",
     "text": [
      "The area of the circle is: 31415.926535897932\n",
      "The perimeter (circumference) of the circle is: 628.3185307179587\n"
     ]
    }
   ],
   "source": [
    "import math\n",
    "\n",
    "# Read the radius from the user\n",
    "radius = float(input(\"Enter the radius of the circle: \"))\n",
    "\n",
    "# Calculate the area of the circle\n",
    "area = math.pi * (radius ** 2)\n",
    "\n",
    "# Calculate the perimeter (circumference) of the circle\n",
    "perimeter = 2 * math.pi * radius\n",
    "\n",
    "# Print the results\n",
    "print('The area of the circle is:',area)\n",
    "print('The perimeter (circumference) of the circle is:',perimeter)"
   ]
  },
  {
   "cell_type": "code",
   "execution_count": 9,
   "id": "53bb031d-a4bd-4a37-a77d-41c20a4d9b76",
   "metadata": {},
   "outputs": [
    {
     "name": "stdin",
     "output_type": "stream",
     "text": [
      "Enter the original amount:  1000\n",
      "Enter the percentage of interest:  10\n"
     ]
    },
    {
     "name": "stdout",
     "output_type": "stream",
     "text": [
      "The interest amount is: interest_amount: 100.0\n",
      "The final amount after adding interest is: 1100.0\n"
     ]
    }
   ],
   "source": [
    "# Read the original amount from the user\n",
    "original_amount = float(input(\"Enter the original amount: \"))\n",
    "\n",
    "# Read the percentage of interest from the user\n",
    "interest_percentage = float(input(\"Enter the percentage of interest: \"))\n",
    "\n",
    "# Calculate the interest amount\n",
    "interest_amount = (interest_percentage / 100) * original_amount\n",
    "\n",
    "# Calculate the final amount after adding the interest\n",
    "final_amount = original_amount + interest_amount\n",
    "\n",
    "# Print the results\n",
    "print('The interest amount is: interest_amount:', interest_amount)\n",
    "print('The final amount after adding interest is:',final_amount) "
   ]
  },
  {
   "cell_type": "code",
   "execution_count": 13,
   "id": "e958ca81-97ec-4afd-bee7-32d2757337be",
   "metadata": {},
   "outputs": [
    {
     "name": "stdin",
     "output_type": "stream",
     "text": [
      "Enter the distance in meters:  100\n"
     ]
    },
    {
     "name": "stdout",
     "output_type": "stream",
     "text": [
      "The distance in centimeters is: centimeters 10000.0\n",
      "The distance in inches is: inches 3937.01\n",
      "The distance in yards is: yards 109.36099999999999\n"
     ]
    }
   ],
   "source": [
    "# Read the distance in meters from the user\n",
    "meters = float(input(\"Enter the distance in meters: \"))\n",
    "\n",
    "# Convert meters to centimeters\n",
    "centimeters = meters * 100\n",
    "\n",
    "# Convert meters to inches\n",
    "inches = meters * 39.3701\n",
    "\n",
    "# Convert meters to yards\n",
    "yards = meters * 1.09361\n",
    "\n",
    "# Print the results\n",
    "print('The distance in centimeters is: centimeters',centimeters)\n",
    "print('The distance in inches is: inches', inches)\n",
    "print('The distance in yards is: yards', yards)"
   ]
  },
  {
   "cell_type": "code",
   "execution_count": 17,
   "id": "286f39a8-af7b-4f73-9057-63027241d839",
   "metadata": {},
   "outputs": [
    {
     "name": "stdin",
     "output_type": "stream",
     "text": [
      "Enter the actual cost of the product:  100\n",
      "Enter the selling cost of the product:  100\n"
     ]
    },
    {
     "name": "stdout",
     "output_type": "stream",
     "text": [
      "There is no profit or loss; you broke even\n"
     ]
    }
   ],
   "source": [
    "# Read the actual cost from the user\n",
    "actual_cost = float(input(\"Enter the actual cost of the product: \"))\n",
    "\n",
    "# Read the selling cost from the user\n",
    "selling_cost = float(input(\"Enter the selling cost of the product: \"))\n",
    "\n",
    "# Calculate profit or loss\n",
    "if selling_cost > actual_cost:\n",
    "    profit = selling_cost - actual_cost\n",
    "    print('You made a profit of: profit', profit)\n",
    "elif selling_cost < actual_cost:\n",
    "    loss = actual_cost - selling_cost\n",
    "    print('You incurred a loss of: loss', loss)\n",
    "else:\n",
    "    print('There is no profit or loss; you broke even') \n",
    "    \n"
   ]
  },
  {
   "cell_type": "code",
   "execution_count": 19,
   "id": "6c835fe4-cb4a-4ae4-9da4-171aea07f6c2",
   "metadata": {},
   "outputs": [
    {
     "name": "stdin",
     "output_type": "stream",
     "text": [
      "Enter the basic salary:  50000\n"
     ]
    },
    {
     "name": "stdout",
     "output_type": "stream",
     "text": [
      "The gross salary is: gross_salary 97500.0\n"
     ]
    }
   ],
   "source": [
    "# Read the basic salary from the user\n",
    "basic_salary = float(input(\"Enter the basic salary: \"))\n",
    "\n",
    "# Calculate DA (Dearness Allowance) and HRA (House Rent Allowance)\n",
    "da = 0.75 * basic_salary\n",
    "hra = 0.20 * basic_salary\n",
    "\n",
    "# Calculate the gross salary based on the conditions\n",
    "if basic_salary < 10000:\n",
    "    gross_salary = da + basic_salary\n",
    "elif 10000 <= basic_salary < 20000:\n",
    "    gross_salary = da + basic_salary + 0.50 * hra\n",
    "else:  # basic_salary >= 20000\n",
    "    gross_salary = basic_salary + da + hra\n",
    "\n",
    "# Print the gross salary\n",
    "print('The gross salary is: gross_salary', gross_salary)"
   ]
  },
  {
   "cell_type": "code",
   "execution_count": 21,
   "id": "39e42346-63f7-456f-be41-8f84d55385fe",
   "metadata": {},
   "outputs": [
    {
     "name": "stdin",
     "output_type": "stream",
     "text": [
      "Enter a number:  10\n"
     ]
    },
    {
     "name": "stdout",
     "output_type": "stream",
     "text": [
      "The factorial of number is  3628800\n"
     ]
    }
   ],
   "source": [
    "# Read the number from the user\n",
    "number = int(input(\"Enter a number: \"))\n",
    "\n",
    "# Initialize the factorial variable\n",
    "factorial = 1\n",
    "\n",
    "# Calculate the factorial using a loop\n",
    "if number < 0:\n",
    "    print(\"Factorial is not defined for negative numbers.\")\n",
    "elif number == 0 or number == 1:\n",
    "    print(f\"The factorial of {number} is 1.\")\n",
    "else:\n",
    "    for i in range(2, number + 1):\n",
    "        factorial *= i\n",
    "    print('The factorial of number is ', factorial)"
   ]
  },
  {
   "cell_type": "code",
   "execution_count": 23,
   "id": "b0f07cc4-082a-4a54-9805-618c6f824065",
   "metadata": {},
   "outputs": [
    {
     "name": "stdin",
     "output_type": "stream",
     "text": [
      "Enter the 1st number 15\n",
      "Enter the second number 25\n"
     ]
    },
    {
     "name": "stdout",
     "output_type": "stream",
     "text": [
      "The sum of the number 220\n"
     ]
    }
   ],
   "source": [
    "# Read the num1 and num2 for the keyboard\n",
    "\n",
    "num1 = int(input('Enter the 1st number'))\n",
    "num2 = int(input('Enter the second number'))\n",
    "\n",
    "# Ensure num1 is less than or equal to num2\n",
    "if num1 > num2:\n",
    "    num1, num2 = num2, num1  # Swap the numbers if necessary\n",
    "sum =0\n",
    "for i in range(num1,num2+1):\n",
    "    sum +=  i\n",
    "print('The sum of the number',sum) \n"
   ]
  },
  {
   "cell_type": "code",
   "execution_count": 25,
   "id": "cd864ae8-053a-45b7-baef-f365c60a95e5",
   "metadata": {},
   "outputs": [
    {
     "name": "stdout",
     "output_type": "stream",
     "text": [
      "Even numbers list: even_numbers [56, 2, 48, 32, 56, 68]\n",
      "Odd numbers list: odd_numbers [35, 41, 43, 71, 55]\n"
     ]
    }
   ],
   "source": [
    "# Given tuple\n",
    "num = (56, 2, 35, 41, 43, 48, 32, 56, 71, 55, 68)\n",
    "\n",
    "# Initialize two empty lists\n",
    "even_numbers = []\n",
    "odd_numbers = []\n",
    "\n",
    "# Loop through each number in the tuple\n",
    "for n in num:\n",
    "    if n % 2 == 0:\n",
    "        even_numbers.append(n)\n",
    "    else:\n",
    "        odd_numbers.append(n)\n",
    "\n",
    "# Print the resulting lists\n",
    "print('Even numbers list: even_numbers', even_numbers)\n",
    "print('Odd numbers list: odd_numbers',odd_numbers)"
   ]
  },
  {
   "cell_type": "code",
   "execution_count": 27,
   "id": "5ba3621f-1ede-43c6-91cf-e9a55e1da6e5",
   "metadata": {},
   "outputs": [
    {
     "name": "stdin",
     "output_type": "stream",
     "text": [
      "enter the number: 10455\n"
     ]
    },
    {
     "name": "stdout",
     "output_type": "stream",
     "text": [
      "The number is odd\n"
     ]
    }
   ],
   "source": [
    "# function to check the number even and odd\n",
    "\n",
    "def check_odd_or_even(num):\n",
    "    if num % 2 == 0:\n",
    "        return \"even\"\n",
    "    else:\n",
    "        return \"odd\"\n",
    "# Read the number for the user\n",
    "\n",
    "num = int(input('enter the number:'))\n",
    "\n",
    "result = check_odd_or_even(num)\n",
    "print('The number is',result) "
   ]
  },
  {
   "cell_type": "code",
   "execution_count": 29,
   "id": "7c0cfee4-a748-4191-a89e-67b87a6665d4",
   "metadata": {},
   "outputs": [
    {
     "name": "stdin",
     "output_type": "stream",
     "text": [
      "Enter the number: 100\n"
     ]
    },
    {
     "name": "stdout",
     "output_type": "stream",
     "text": [
      "Squar root of th number 10.0\n",
      "Tangent of th number -0.5872139151569291\n",
      "sine of the number -0.5063656411097588\n",
      "log of the th number 4.605170185988092\n"
     ]
    }
   ],
   "source": [
    "import math\n",
    "\n",
    "num = float(input('Enter the number:'))\n",
    "\n",
    "squart_root = math.sqrt(num)\n",
    "tangent = math.tan(num)\n",
    "sine = math.sin(num)\n",
    "log = math.log(num)\n",
    "fact = math.factorial(int(num))\n",
    "\n",
    "# Display the results\n",
    "\n",
    "print('Squar root of th number',squart_root)\n",
    "print('Tangent of th number',tangent)\n",
    "print('sine of the number',sine)\n",
    "print('log of the th number',log)  "
   ]
  },
  {
   "cell_type": "code",
   "execution_count": 31,
   "id": "6283b447-13de-41ba-8ba5-8e6ad2d4a97f",
   "metadata": {},
   "outputs": [
    {
     "name": "stdout",
     "output_type": "stream",
     "text": [
      "The area of the rectangle is: area 50\n"
     ]
    }
   ],
   "source": [
    "class Rectangle:\n",
    "    def __init__(self, length, width):\n",
    "        self.length = length\n",
    "        self.width = width\n",
    "\n",
    "    def calculate(self):\n",
    "        return self.length * self.width\n",
    "\n",
    "# Create an object of the Rectangle class\n",
    "rect = Rectangle(length=10, width=5)\n",
    "\n",
    "# Call the calculate method to find the area\n",
    "area = rect.calculate()\n",
    "\n",
    "# Print the area of the rectangle\n",
    "print('The area of the rectangle is: area',area)"
   ]
  },
  {
   "cell_type": "code",
   "execution_count": null,
   "id": "9ca06278-d171-417c-aab1-598d7d9ae131",
   "metadata": {},
   "outputs": [],
   "source": []
  }
 ],
 "metadata": {
  "kernelspec": {
   "display_name": "Python 3 (ipykernel)",
   "language": "python",
   "name": "python3"
  },
  "language_info": {
   "codemirror_mode": {
    "name": "ipython",
    "version": 3
   },
   "file_extension": ".py",
   "mimetype": "text/x-python",
   "name": "python",
   "nbconvert_exporter": "python",
   "pygments_lexer": "ipython3",
   "version": "3.12.4"
  }
 },
 "nbformat": 4,
 "nbformat_minor": 5
}
