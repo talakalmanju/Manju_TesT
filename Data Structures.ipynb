{
 "cells": [
  {
   "cell_type": "code",
   "execution_count": 1,
   "id": "c6e76dd4-1a5a-4bce-ab65-2c47e38b3b50",
   "metadata": {},
   "outputs": [
    {
     "name": "stdout",
     "output_type": "stream",
     "text": [
      "Hello manjunatha\n"
     ]
    }
   ],
   "source": [
    "print (\"Hello manjunatha\")"
   ]
  },
  {
   "cell_type": "code",
   "execution_count": 3,
   "id": "58c5b454-d86d-4496-bdef-e7a379b47b28",
   "metadata": {},
   "outputs": [
    {
     "ename": "SyntaxError",
     "evalue": "invalid syntax (1607619411.py, line 1)",
     "output_type": "error",
     "traceback": [
      "\u001b[1;36m  Cell \u001b[1;32mIn[3], line 1\u001b[1;36m\u001b[0m\n\u001b[1;33m    num = [45,24,76,,41,84,29,62]\u001b[0m\n\u001b[1;37m                    ^\u001b[0m\n\u001b[1;31mSyntaxError\u001b[0m\u001b[1;31m:\u001b[0m invalid syntax\n"
     ]
    }
   ],
   "source": [
    "num = [45,24,76,,41,84,29,62]\n",
    "typ(num)"
   ]
  },
  {
   "cell_type": "code",
   "execution_count": 5,
   "id": "c65b50a2-c6e1-4f1c-b52d-607471ecd680",
   "metadata": {},
   "outputs": [
    {
     "ename": "SyntaxError",
     "evalue": "invalid syntax (100441601.py, line 1)",
     "output_type": "error",
     "traceback": [
      "\u001b[1;36m  Cell \u001b[1;32mIn[5], line 1\u001b[1;36m\u001b[0m\n\u001b[1;33m    num = [45,24,76,,41,84,29,62]\u001b[0m\n\u001b[1;37m                    ^\u001b[0m\n\u001b[1;31mSyntaxError\u001b[0m\u001b[1;31m:\u001b[0m invalid syntax\n"
     ]
    }
   ],
   "source": [
    "num = [45,24,76,,41,84,29,62]\n",
    "type(num) "
   ]
  },
  {
   "cell_type": "code",
   "execution_count": 7,
   "id": "bcc7f35a-34a0-4d45-9675-0eb93046d521",
   "metadata": {},
   "outputs": [
    {
     "data": {
      "text/plain": [
       "list"
      ]
     },
     "execution_count": 7,
     "metadata": {},
     "output_type": "execute_result"
    }
   ],
   "source": [
    "num = [45,24,76,41,84,29,62]\n",
    "type(num)"
   ]
  },
  {
   "cell_type": "code",
   "execution_count": 9,
   "id": "920d5e29-44c4-45a3-bfdc-26931149a14e",
   "metadata": {},
   "outputs": [
    {
     "data": {
      "text/plain": [
       "tuple"
      ]
     },
     "execution_count": 9,
     "metadata": {},
     "output_type": "execute_result"
    }
   ],
   "source": [
    "num = (45,24,76,41,84,29,62)\n",
    "type(num)"
   ]
  },
  {
   "cell_type": "code",
   "execution_count": 11,
   "id": "59c83738-e001-4140-b8e1-9b2605446adb",
   "metadata": {},
   "outputs": [
    {
     "data": {
      "text/plain": [
       "set"
      ]
     },
     "execution_count": 11,
     "metadata": {},
     "output_type": "execute_result"
    }
   ],
   "source": [
    "num = {45,24,76,41,84,29,62}\n",
    "type(num)"
   ]
  },
  {
   "cell_type": "code",
   "execution_count": 13,
   "id": "68e1817d-fad3-4464-a2da-11f44b0d35f0",
   "metadata": {},
   "outputs": [
    {
     "data": {
      "text/plain": [
       "set"
      ]
     },
     "execution_count": 13,
     "metadata": {},
     "output_type": "execute_result"
    }
   ],
   "source": [
    "num = {10,20,30,40,50,60}\n",
    "type(num)"
   ]
  },
  {
   "cell_type": "code",
   "execution_count": 15,
   "id": "15a2afe2-01aa-4139-be45-39ac6ed65e52",
   "metadata": {},
   "outputs": [
    {
     "data": {
      "text/plain": [
       "list"
      ]
     },
     "execution_count": 15,
     "metadata": {},
     "output_type": "execute_result"
    }
   ],
   "source": [
    "num = [10,20,30,40,50,60]\n",
    "type(num)"
   ]
  },
  {
   "cell_type": "code",
   "execution_count": 17,
   "id": "2e2e4b9c-709b-4d28-888f-c76c4d3fe389",
   "metadata": {},
   "outputs": [
    {
     "data": {
      "text/plain": [
       "dict"
      ]
     },
     "execution_count": 17,
     "metadata": {},
     "output_type": "execute_result"
    }
   ],
   "source": [
    "num = {45:24,76:41,84:29,62:78}\n",
    "type(num)"
   ]
  },
  {
   "cell_type": "code",
   "execution_count": 19,
   "id": "58c460f6-cd50-4976-b920-340df97eba78",
   "metadata": {},
   "outputs": [
    {
     "data": {
      "text/plain": [
       "list"
      ]
     },
     "execution_count": 19,
     "metadata": {},
     "output_type": "execute_result"
    }
   ],
   "source": [
    "num = [45,24,76,41,84,29,62,28,94,55]\n",
    "type(num)"
   ]
  },
  {
   "cell_type": "code",
   "execution_count": 21,
   "id": "3b7fd21b-50a1-4eca-a98f-7e841e3f565a",
   "metadata": {},
   "outputs": [
    {
     "data": {
      "text/plain": [
       "45"
      ]
     },
     "execution_count": 21,
     "metadata": {},
     "output_type": "execute_result"
    }
   ],
   "source": [
    "num[0]"
   ]
  },
  {
   "cell_type": "code",
   "execution_count": 23,
   "id": "e2446139-6e92-4201-8f96-ef6e1efa0539",
   "metadata": {},
   "outputs": [
    {
     "data": {
      "text/plain": [
       "62"
      ]
     },
     "execution_count": 23,
     "metadata": {},
     "output_type": "execute_result"
    }
   ],
   "source": [
    "num[6]"
   ]
  },
  {
   "cell_type": "code",
   "execution_count": 25,
   "id": "800bbd69-da3a-416c-a4c3-a8615f1ba319",
   "metadata": {},
   "outputs": [
    {
     "data": {
      "text/plain": [
       "[47, 24, 76, 41, 84, 29, 62, 28, 94, 55]"
      ]
     },
     "execution_count": 25,
     "metadata": {},
     "output_type": "execute_result"
    }
   ],
   "source": [
    "num [ 0 ] = 47\n",
    "num"
   ]
  },
  {
   "cell_type": "code",
   "execution_count": 27,
   "id": "adbc63b5-1019-418c-8cc5-bd358858c914",
   "metadata": {},
   "outputs": [
    {
     "data": {
      "text/plain": [
       "[47, 24, 76, 41, 84, 29, 62, 28, 94, 55]"
      ]
     },
     "execution_count": 27,
     "metadata": {},
     "output_type": "execute_result"
    }
   ],
   "source": [
    "num[0]=47\n",
    "num"
   ]
  },
  {
   "cell_type": "code",
   "execution_count": 29,
   "id": "7388679f-11a9-455f-8460-257f4216b1d2",
   "metadata": {},
   "outputs": [
    {
     "data": {
      "text/plain": [
       "[67, 89.05, True, 'Pune', 28]"
      ]
     },
     "execution_count": 29,
     "metadata": {},
     "output_type": "execute_result"
    }
   ],
   "source": [
    "mixed = [67,89.05,True,'Pune',28]\n",
    "mixed"
   ]
  },
  {
   "cell_type": "code",
   "execution_count": 31,
   "id": "482b02e0-6c73-45e2-a7c9-063c24305b51",
   "metadata": {},
   "outputs": [
    {
     "data": {
      "text/plain": [
       "[90, 80, 50, 60, True, 'Bangalore', 100]"
      ]
     },
     "execution_count": 31,
     "metadata": {},
     "output_type": "execute_result"
    }
   ],
   "source": [
    "mixed = [90,80,50,60,True,'Bangalore',100]\n",
    "mixed"
   ]
  },
  {
   "cell_type": "code",
   "execution_count": 33,
   "id": "b076a470-55d2-4b6f-8d4b-f1b8bcffaf1c",
   "metadata": {},
   "outputs": [
    {
     "data": {
      "text/plain": [
       "[67, 89.05, True, 'Pune', 28]"
      ]
     },
     "execution_count": 33,
     "metadata": {},
     "output_type": "execute_result"
    }
   ],
   "source": [
    "mixed = [67,89.05,True,'Pune',28]\n",
    "mixed\n"
   ]
  },
  {
   "cell_type": "code",
   "execution_count": 35,
   "id": "7d6dbd4b-42eb-4cd0-9393-4ee2c292378a",
   "metadata": {},
   "outputs": [
    {
     "data": {
      "text/plain": [
       "94"
      ]
     },
     "execution_count": 35,
     "metadata": {},
     "output_type": "execute_result"
    }
   ],
   "source": [
    "num[-2]"
   ]
  },
  {
   "cell_type": "code",
   "execution_count": 37,
   "id": "9b172d89-6af1-408e-94b5-5754844d6644",
   "metadata": {},
   "outputs": [
    {
     "name": "stdout",
     "output_type": "stream",
     "text": [
      "47\n",
      "24\n",
      "76\n",
      "41\n",
      "84\n",
      "29\n",
      "62\n",
      "28\n",
      "94\n",
      "55\n"
     ]
    }
   ],
   "source": [
    "for n in num :\n",
    "    print(n)"
   ]
  },
  {
   "cell_type": "code",
   "execution_count": 39,
   "id": "8056f515-e6d1-424c-ae09-031dadf5bfba",
   "metadata": {},
   "outputs": [
    {
     "ename": "SyntaxError",
     "evalue": "cannot assign to expression here. Maybe you meant '==' instead of '='? (2327747669.py, line 2)",
     "output_type": "error",
     "traceback": [
      "\u001b[1;36m  Cell \u001b[1;32mIn[39], line 2\u001b[1;36m\u001b[0m\n\u001b[1;33m    if num % 2 = 1\u001b[0m\n\u001b[1;37m       ^\u001b[0m\n\u001b[1;31mSyntaxError\u001b[0m\u001b[1;31m:\u001b[0m cannot assign to expression here. Maybe you meant '==' instead of '='?\n"
     ]
    }
   ],
   "source": [
    "for n in num :\n",
    "    if num % 2 = 1\n",
    "    print(odd)\n",
    "    print(n)"
   ]
  },
  {
   "cell_type": "code",
   "execution_count": 41,
   "id": "0eb64cf7-e84b-4e56-9a00-62c82b780a00",
   "metadata": {},
   "outputs": [
    {
     "ename": "SyntaxError",
     "evalue": "cannot assign to expression here. Maybe you meant '==' instead of '='? (2269564190.py, line 2)",
     "output_type": "error",
     "traceback": [
      "\u001b[1;36m  Cell \u001b[1;32mIn[41], line 2\u001b[1;36m\u001b[0m\n\u001b[1;33m    if num % 2 = 1:\u001b[0m\n\u001b[1;37m       ^\u001b[0m\n\u001b[1;31mSyntaxError\u001b[0m\u001b[1;31m:\u001b[0m cannot assign to expression here. Maybe you meant '==' instead of '='?\n"
     ]
    }
   ],
   "source": [
    "for n in num :\n",
    "    if num % 2 = 1:\n",
    "    print(odd)\n",
    "    print(n)"
   ]
  },
  {
   "cell_type": "code",
   "execution_count": 43,
   "id": "249fe670-6b50-4919-94ba-7af2cbf1a52b",
   "metadata": {},
   "outputs": [
    {
     "ename": "SyntaxError",
     "evalue": "cannot assign to expression here. Maybe you meant '==' instead of '='? (3350144462.py, line 2)",
     "output_type": "error",
     "traceback": [
      "\u001b[1;36m  Cell \u001b[1;32mIn[43], line 2\u001b[1;36m\u001b[0m\n\u001b[1;33m    if n % 2 = 1:\u001b[0m\n\u001b[1;37m       ^\u001b[0m\n\u001b[1;31mSyntaxError\u001b[0m\u001b[1;31m:\u001b[0m cannot assign to expression here. Maybe you meant '==' instead of '='?\n"
     ]
    }
   ],
   "source": [
    "for n in num :\n",
    "    if n % 2 = 1:\n",
    "    print(odd)\n",
    "    print(n)"
   ]
  },
  {
   "cell_type": "code",
   "execution_count": 45,
   "id": "19f88451-38af-42e1-8fca-1221db8cf799",
   "metadata": {},
   "outputs": [
    {
     "ename": "IndentationError",
     "evalue": "expected an indented block after 'if' statement on line 2 (1853993850.py, line 3)",
     "output_type": "error",
     "traceback": [
      "\u001b[1;36m  Cell \u001b[1;32mIn[45], line 3\u001b[1;36m\u001b[0m\n\u001b[1;33m    print(n)\u001b[0m\n\u001b[1;37m    ^\u001b[0m\n\u001b[1;31mIndentationError\u001b[0m\u001b[1;31m:\u001b[0m expected an indented block after 'if' statement on line 2\n"
     ]
    }
   ],
   "source": [
    "for n in num :\n",
    "    if n % 2 == 1:\n",
    "    print(n)"
   ]
  },
  {
   "cell_type": "code",
   "execution_count": 47,
   "id": "10a05fca-29de-44ba-90ac-4acbf618e6cb",
   "metadata": {},
   "outputs": [
    {
     "name": "stdout",
     "output_type": "stream",
     "text": [
      "47\n",
      "41\n",
      "29\n",
      "55\n"
     ]
    }
   ],
   "source": [
    "for n in num :\n",
    "    if n % 2 == 1:\n",
    "     print(n)"
   ]
  },
  {
   "cell_type": "code",
   "execution_count": 51,
   "id": "77d53f6d-93a2-41f2-98de-5ebdaa27e5dc",
   "metadata": {},
   "outputs": [
    {
     "name": "stdout",
     "output_type": "stream",
     "text": [
      "47\n",
      "41\n",
      "29\n",
      "55\n"
     ]
    }
   ],
   "source": [
    "for n in num:\n",
    "    if n % 2 == 1:\n",
    "      print(n)"
   ]
  },
  {
   "cell_type": "markdown",
   "id": "4e639034-2561-4226-b747-21ac5dfb42f1",
   "metadata": {},
   "source": [
    "29 in num\n"
   ]
  },
  {
   "cell_type": "code",
   "execution_count": 54,
   "id": "b2618818-5072-4f11-977a-3e8722844720",
   "metadata": {},
   "outputs": [
    {
     "data": {
      "text/plain": [
       "True"
      ]
     },
     "execution_count": 54,
     "metadata": {},
     "output_type": "execute_result"
    }
   ],
   "source": [
    "38 not in num"
   ]
  },
  {
   "cell_type": "code",
   "execution_count": 56,
   "id": "02cc94c9-87d9-44b9-9128-9e9a4427cb6c",
   "metadata": {},
   "outputs": [
    {
     "data": {
      "text/plain": [
       "True"
      ]
     },
     "execution_count": 56,
     "metadata": {},
     "output_type": "execute_result"
    }
   ],
   "source": [
    "29 in num"
   ]
  },
  {
   "cell_type": "code",
   "execution_count": 58,
   "id": "bef04871-ef59-41af-bd42-a40fc5fd8998",
   "metadata": {},
   "outputs": [],
   "source": [
    "e = []"
   ]
  },
  {
   "cell_type": "code",
   "execution_count": 60,
   "id": "5b0830fc-deb2-4cd3-8fea-995b8b6794af",
   "metadata": {},
   "outputs": [
    {
     "data": {
      "text/plain": [
       "list"
      ]
     },
     "execution_count": 60,
     "metadata": {},
     "output_type": "execute_result"
    }
   ],
   "source": [
    "e=[]\n",
    "type(e)"
   ]
  },
  {
   "cell_type": "code",
   "execution_count": 62,
   "id": "1169ac65-610e-40af-b0dc-bd8f3067501f",
   "metadata": {},
   "outputs": [
    {
     "ename": "IndexError",
     "evalue": "list index out of range",
     "output_type": "error",
     "traceback": [
      "\u001b[1;31m---------------------------------------------------------------------------\u001b[0m",
      "\u001b[1;31mIndexError\u001b[0m                                Traceback (most recent call last)",
      "Cell \u001b[1;32mIn[62], line 1\u001b[0m\n\u001b[1;32m----> 1\u001b[0m e[\u001b[38;5;241m0\u001b[39m]\n",
      "\u001b[1;31mIndexError\u001b[0m: list index out of range"
     ]
    }
   ],
   "source": [
    "e[0]"
   ]
  },
  {
   "cell_type": "code",
   "execution_count": 64,
   "id": "7a1f2cac-00ac-486b-9d56-dc55bdb05704",
   "metadata": {},
   "outputs": [],
   "source": [
    "e +=[26]"
   ]
  },
  {
   "cell_type": "code",
   "execution_count": 66,
   "id": "5133a41a-8b95-4961-b79a-95664d072d7e",
   "metadata": {},
   "outputs": [
    {
     "data": {
      "text/plain": [
       "[26, 26]"
      ]
     },
     "execution_count": 66,
     "metadata": {},
     "output_type": "execute_result"
    }
   ],
   "source": [
    "e +=[26]\n",
    "e"
   ]
  },
  {
   "cell_type": "code",
   "execution_count": 68,
   "id": "a869cfee-fab0-4fc3-9e23-b2ff82b65980",
   "metadata": {},
   "outputs": [],
   "source": [
    "e +=[78]"
   ]
  },
  {
   "cell_type": "code",
   "execution_count": 70,
   "id": "71e68665-aa12-408e-acbc-0d23a11e33b8",
   "metadata": {},
   "outputs": [
    {
     "ename": "TypeError",
     "evalue": "bad operand type for unary +: 'list'",
     "output_type": "error",
     "traceback": [
      "\u001b[1;31m---------------------------------------------------------------------------\u001b[0m",
      "\u001b[1;31mTypeError\u001b[0m                                 Traceback (most recent call last)",
      "Cell \u001b[1;32mIn[70], line 1\u001b[0m\n\u001b[1;32m----> 1\u001b[0m e \u001b[38;5;241m=\u001b[39m\u001b[38;5;241m+\u001b[39m[\u001b[38;5;241m78\u001b[39m]\n\u001b[0;32m      2\u001b[0m e\n",
      "\u001b[1;31mTypeError\u001b[0m: bad operand type for unary +: 'list'"
     ]
    }
   ],
   "source": [
    "\n",
    "e =+[78]\n",
    "e"
   ]
  },
  {
   "cell_type": "code",
   "execution_count": 72,
   "id": "596df016-382f-4f83-a545-946eba239a93",
   "metadata": {},
   "outputs": [
    {
     "ename": "TypeError",
     "evalue": "bad operand type for unary +: 'list'",
     "output_type": "error",
     "traceback": [
      "\u001b[1;31m---------------------------------------------------------------------------\u001b[0m",
      "\u001b[1;31mTypeError\u001b[0m                                 Traceback (most recent call last)",
      "Cell \u001b[1;32mIn[72], line 1\u001b[0m\n\u001b[1;32m----> 1\u001b[0m e \u001b[38;5;241m=\u001b[39m\u001b[38;5;241m+\u001b[39m[\u001b[38;5;241m78\u001b[39m]\n\u001b[0;32m      2\u001b[0m e\n",
      "\u001b[1;31mTypeError\u001b[0m: bad operand type for unary +: 'list'"
     ]
    }
   ],
   "source": [
    "e =+[78]\n",
    "e"
   ]
  },
  {
   "cell_type": "code",
   "execution_count": 74,
   "id": "fa139498-846e-412b-b08f-22c70cadaeb6",
   "metadata": {},
   "outputs": [
    {
     "data": {
      "text/plain": [
       "[26, 26, 78, 78]"
      ]
     },
     "execution_count": 74,
     "metadata": {},
     "output_type": "execute_result"
    }
   ],
   "source": [
    "e += [78]\n",
    "e"
   ]
  },
  {
   "cell_type": "code",
   "execution_count": 76,
   "id": "b00ca2ed-be5b-458c-b4ab-583156cb7df0",
   "metadata": {},
   "outputs": [],
   "source": [
    "# slicing\n",
    "x=  num[3:8]"
   ]
  },
  {
   "cell_type": "code",
   "execution_count": 78,
   "id": "b199f662-f94c-4ca7-ae2c-513faf220fd1",
   "metadata": {},
   "outputs": [
    {
     "data": {
      "text/plain": [
       "[41, 84, 29, 62, 28]"
      ]
     },
     "execution_count": 78,
     "metadata": {},
     "output_type": "execute_result"
    }
   ],
   "source": [
    "# slicing\n",
    "x=  num[3:8]\n",
    "x"
   ]
  },
  {
   "cell_type": "code",
   "execution_count": 80,
   "id": "844864f1-4e79-4588-b330-7debeae691c5",
   "metadata": {},
   "outputs": [
    {
     "data": {
      "text/plain": [
       "[41, 84, 29, 62, 28]"
      ]
     },
     "execution_count": 80,
     "metadata": {},
     "output_type": "execute_result"
    }
   ],
   "source": [
    "x = num [3:8]\n",
    "x"
   ]
  },
  {
   "cell_type": "code",
   "execution_count": 82,
   "id": "f4d856e8-45ae-4517-9feb-b44786626672",
   "metadata": {},
   "outputs": [
    {
     "data": {
      "text/plain": [
       "[24, 76, 41, 84, 29, 62]"
      ]
     },
     "execution_count": 82,
     "metadata": {},
     "output_type": "execute_result"
    }
   ],
   "source": [
    "x = num [1:7]\n",
    "x"
   ]
  },
  {
   "cell_type": "code",
   "execution_count": 84,
   "id": "fbc7eb84-4ed0-4ffc-8885-511636429311",
   "metadata": {},
   "outputs": [
    {
     "data": {
      "text/plain": [
       "[47, 24, 76, 41, 84, 29, 62, 28, 94, 55]"
      ]
     },
     "execution_count": 84,
     "metadata": {},
     "output_type": "execute_result"
    }
   ],
   "source": [
    "num"
   ]
  },
  {
   "cell_type": "code",
   "execution_count": 86,
   "id": "33916635-df1e-48de-82cd-2f6d3b725317",
   "metadata": {},
   "outputs": [
    {
     "data": {
      "text/plain": [
       "[29, 62, 28, 94, 55]"
      ]
     },
     "execution_count": 86,
     "metadata": {},
     "output_type": "execute_result"
    }
   ],
   "source": [
    "num[5:]"
   ]
  },
  {
   "cell_type": "code",
   "execution_count": 88,
   "id": "3df4709f-4abd-4c18-8449-f9059b47a7c1",
   "metadata": {},
   "outputs": [
    {
     "data": {
      "text/plain": [
       "[47, 24, 76, 41, 84, 29]"
      ]
     },
     "execution_count": 88,
     "metadata": {},
     "output_type": "execute_result"
    }
   ],
   "source": [
    "num [:6]"
   ]
  },
  {
   "cell_type": "code",
   "execution_count": 90,
   "id": "17f1532e-52e3-4194-bd42-9118ff0ecc74",
   "metadata": {},
   "outputs": [
    {
     "data": {
      "text/plain": [
       "[47, 24, 76, 41, 84, 29, 62, 28, 94, 55]"
      ]
     },
     "execution_count": 90,
     "metadata": {},
     "output_type": "execute_result"
    }
   ],
   "source": [
    "num"
   ]
  },
  {
   "cell_type": "code",
   "execution_count": 92,
   "id": "5277c31d-6088-4752-a47c-6ef4a1b8a525",
   "metadata": {},
   "outputs": [],
   "source": [
    "num1 = [4,5,6]\n",
    "num2 = [7,1,2]\n",
    "x = num1 + num2"
   ]
  },
  {
   "cell_type": "code",
   "execution_count": 94,
   "id": "723b38e2-0426-4a26-9a67-8de19c2b5ae6",
   "metadata": {},
   "outputs": [
    {
     "data": {
      "text/plain": [
       "[4, 5, 6, 7, 1, 2]"
      ]
     },
     "execution_count": 94,
     "metadata": {},
     "output_type": "execute_result"
    }
   ],
   "source": [
    "num1 = [4,5,6]\n",
    "num2 = [7,1,2]\n",
    "x = num1 + num2\n",
    "x"
   ]
  },
  {
   "cell_type": "code",
   "execution_count": 96,
   "id": "b92b1c5a-f924-413e-9a0c-12a3c803f39f",
   "metadata": {},
   "outputs": [
    {
     "data": {
      "text/plain": [
       "[4, 5, 6, 7, 1, 2]"
      ]
     },
     "execution_count": 96,
     "metadata": {},
     "output_type": "execute_result"
    }
   ],
   "source": [
    "num1 = [4,5,6]\n",
    "num2 = [7,1,2]\n",
    "x = num1 + num2\n",
    "x\n"
   ]
  },
  {
   "cell_type": "code",
   "execution_count": 100,
   "id": "8c538ce4-9bce-41f7-8148-6a3334ab5c98",
   "metadata": {},
   "outputs": [
    {
     "data": {
      "text/plain": [
       "[4, 5, 6, 4, 5, 6, 4, 5, 6]"
      ]
     },
     "execution_count": 100,
     "metadata": {},
     "output_type": "execute_result"
    }
   ],
   "source": [
    "num1 * 3"
   ]
  },
  {
   "cell_type": "code",
   "execution_count": 102,
   "id": "301b764c-e13e-4a44-9da2-8187d0282d20",
   "metadata": {},
   "outputs": [
    {
     "data": {
      "text/plain": [
       "[4, 5, 6, 4, 5, 6, 4, 5, 6]"
      ]
     },
     "execution_count": 102,
     "metadata": {},
     "output_type": "execute_result"
    }
   ],
   "source": [
    "num1 * 3"
   ]
  },
  {
   "cell_type": "code",
   "execution_count": 104,
   "id": "4dc18f6f-bf40-4f18-bf5c-48c61b821630",
   "metadata": {},
   "outputs": [
    {
     "data": {
      "text/plain": [
       "10"
      ]
     },
     "execution_count": 104,
     "metadata": {},
     "output_type": "execute_result"
    }
   ],
   "source": [
    "len(num)"
   ]
  },
  {
   "cell_type": "code",
   "execution_count": 106,
   "id": "3d9da1a7-eb82-43c3-8920-0ef806717583",
   "metadata": {},
   "outputs": [
    {
     "data": {
      "text/plain": [
       "(24, 94, 540)"
      ]
     },
     "execution_count": 106,
     "metadata": {},
     "output_type": "execute_result"
    }
   ],
   "source": [
    "min(num), max(num), sum(num)"
   ]
  },
  {
   "cell_type": "code",
   "execution_count": 108,
   "id": "38fbf4df-7679-44ef-bcdd-039e645fb1da",
   "metadata": {},
   "outputs": [
    {
     "ename": "NameError",
     "evalue": "name 'sort' is not defined",
     "output_type": "error",
     "traceback": [
      "\u001b[1;31m---------------------------------------------------------------------------\u001b[0m",
      "\u001b[1;31mNameError\u001b[0m                                 Traceback (most recent call last)",
      "Cell \u001b[1;32mIn[108], line 1\u001b[0m\n\u001b[1;32m----> 1\u001b[0m sort(num)\n",
      "\u001b[1;31mNameError\u001b[0m: name 'sort' is not defined"
     ]
    }
   ],
   "source": [
    "sort(num)"
   ]
  },
  {
   "cell_type": "code",
   "execution_count": 110,
   "id": "255e3786-35f5-4c2e-9033-f625f1b418f2",
   "metadata": {},
   "outputs": [
    {
     "data": {
      "text/plain": [
       "[24, 28, 29, 41, 47, 55, 62, 76, 84, 94]"
      ]
     },
     "execution_count": 110,
     "metadata": {},
     "output_type": "execute_result"
    }
   ],
   "source": [
    "sorted(num)"
   ]
  },
  {
   "cell_type": "code",
   "execution_count": 112,
   "id": "2ef26a76-4461-46f1-af52-74ede869be7a",
   "metadata": {},
   "outputs": [
    {
     "data": {
      "text/plain": [
       "[94, 84, 76, 62, 55, 47, 41, 29, 28, 24]"
      ]
     },
     "execution_count": 112,
     "metadata": {},
     "output_type": "execute_result"
    }
   ],
   "source": [
    "sorted(num, reverse=True)"
   ]
  },
  {
   "cell_type": "code",
   "execution_count": 114,
   "id": "f6a9c388-79e2-4bb8-9fed-ea662f9559f5",
   "metadata": {},
   "outputs": [
    {
     "data": {
      "text/plain": [
       "[47, 24, 76, 41, 84, 29, 62, 28, 94, 55]"
      ]
     },
     "execution_count": 114,
     "metadata": {},
     "output_type": "execute_result"
    }
   ],
   "source": [
    "num"
   ]
  },
  {
   "cell_type": "code",
   "execution_count": 116,
   "id": "cca3a43b-e7ff-4064-ad9f-34aa71a1c896",
   "metadata": {},
   "outputs": [
    {
     "data": {
      "text/plain": [
       "[47, 24, 76, 41, 84, 29, 62, 28, 94, 55, 26]"
      ]
     },
     "execution_count": 116,
     "metadata": {},
     "output_type": "execute_result"
    }
   ],
   "source": [
    "num.append(26)\n",
    "num"
   ]
  },
  {
   "cell_type": "code",
   "execution_count": 118,
   "id": "6a8dc502-dbe9-4b1d-81a1-33e487bca2ac",
   "metadata": {},
   "outputs": [
    {
     "data": {
      "text/plain": [
       "[47, 24, 76, 41, 84, 62, 28, 94, 55, 26]"
      ]
     },
     "execution_count": 118,
     "metadata": {},
     "output_type": "execute_result"
    }
   ],
   "source": [
    "num.remove(29)\n",
    "num"
   ]
  },
  {
   "cell_type": "code",
   "execution_count": 120,
   "id": "0a5c9505-148f-428b-ab74-0f2dec9d570b",
   "metadata": {},
   "outputs": [
    {
     "data": {
      "text/plain": [
       "[47, 24, 41, 84, 62, 28, 94, 55, 26]"
      ]
     },
     "execution_count": 120,
     "metadata": {},
     "output_type": "execute_result"
    }
   ],
   "source": [
    "num.pop(2)\n",
    "num"
   ]
  },
  {
   "cell_type": "code",
   "execution_count": 122,
   "id": "c1fcf094-b960-4ea7-99a0-3daec37adca3",
   "metadata": {},
   "outputs": [
    {
     "data": {
      "text/plain": [
       "[47, 24, 41, 58, 84, 62, 28, 94, 55, 26]"
      ]
     },
     "execution_count": 122,
     "metadata": {},
     "output_type": "execute_result"
    }
   ],
   "source": [
    "num.insert(3,58)\n",
    "num"
   ]
  },
  {
   "cell_type": "code",
   "execution_count": 124,
   "id": "435dfe9d-671d-4331-beed-229a3df2b362",
   "metadata": {},
   "outputs": [
    {
     "data": {
      "text/plain": [
       "[26, 55, 94, 28, 62, 84, 58, 41, 24, 47]"
      ]
     },
     "execution_count": 124,
     "metadata": {},
     "output_type": "execute_result"
    }
   ],
   "source": [
    "num.reverse()\n",
    "num"
   ]
  },
  {
   "cell_type": "code",
   "execution_count": 126,
   "id": "76ad481b-f537-45ce-b400-e5526fbd724a",
   "metadata": {},
   "outputs": [
    {
     "data": {
      "text/plain": [
       "[24, 26, 28, 41, 47, 55, 58, 62, 84, 94]"
      ]
     },
     "execution_count": 126,
     "metadata": {},
     "output_type": "execute_result"
    }
   ],
   "source": [
    "num.sort()\n",
    "num"
   ]
  },
  {
   "cell_type": "code",
   "execution_count": 128,
   "id": "ab2bc467-be9f-487e-9fb6-0f5ed997e901",
   "metadata": {},
   "outputs": [
    {
     "data": {
      "text/plain": [
       "[94, 84, 62, 58, 55, 47, 41, 28, 26, 24]"
      ]
     },
     "execution_count": 128,
     "metadata": {},
     "output_type": "execute_result"
    }
   ],
   "source": [
    "num.sort(reverse=True)\n",
    "num"
   ]
  },
  {
   "cell_type": "code",
   "execution_count": 132,
   "id": "7faeb0b4-bba9-431d-a5b5-ecf713b93ee0",
   "metadata": {},
   "outputs": [
    {
     "data": {
      "text/plain": [
       "[]"
      ]
     },
     "execution_count": 132,
     "metadata": {},
     "output_type": "execute_result"
    }
   ],
   "source": [
    "num.clear()\n",
    "num"
   ]
  },
  {
   "cell_type": "code",
   "execution_count": 134,
   "id": "f71755e3-87eb-4fb0-9fdb-bb26670acb0f",
   "metadata": {},
   "outputs": [],
   "source": [
    "del num"
   ]
  },
  {
   "cell_type": "code",
   "execution_count": 136,
   "id": "f62ed75c-b65e-4080-a027-bc9de6656d22",
   "metadata": {},
   "outputs": [
    {
     "ename": "NameError",
     "evalue": "name 'num' is not defined",
     "output_type": "error",
     "traceback": [
      "\u001b[1;31m---------------------------------------------------------------------------\u001b[0m",
      "\u001b[1;31mNameError\u001b[0m                                 Traceback (most recent call last)",
      "Cell \u001b[1;32mIn[136], line 1\u001b[0m\n\u001b[1;32m----> 1\u001b[0m \u001b[38;5;28mprint\u001b[39m(num)\n",
      "\u001b[1;31mNameError\u001b[0m: name 'num' is not defined"
     ]
    }
   ],
   "source": [
    "print(num)"
   ]
  },
  {
   "cell_type": "code",
   "execution_count": 138,
   "id": "047590ab-0722-4f40-ae0e-11e6f535d698",
   "metadata": {},
   "outputs": [
    {
     "ename": "NameError",
     "evalue": "name 'num' is not defined",
     "output_type": "error",
     "traceback": [
      "\u001b[1;31m---------------------------------------------------------------------------\u001b[0m",
      "\u001b[1;31mNameError\u001b[0m                                 Traceback (most recent call last)",
      "Cell \u001b[1;32mIn[138], line 1\u001b[0m\n\u001b[1;32m----> 1\u001b[0m num\n",
      "\u001b[1;31mNameError\u001b[0m: name 'num' is not defined"
     ]
    }
   ],
   "source": [
    "num"
   ]
  },
  {
   "cell_type": "code",
   "execution_count": 140,
   "id": "5619497b-0209-44e2-b578-4f327736be86",
   "metadata": {},
   "outputs": [
    {
     "data": {
      "text/plain": [
       "['silver',\n",
       " 'gold',\n",
       " 'copper',\n",
       " 'aluminium',\n",
       " 'gold',\n",
       " 'silver',\n",
       " 'silver',\n",
       " 'copper',\n",
       " 'aluminium',\n",
       " 'copper',\n",
       " 'gold',\n",
       " 'copper',\n",
       " 'silver',\n",
       " 'gold']"
      ]
     },
     "execution_count": 140,
     "metadata": {},
     "output_type": "execute_result"
    }
   ],
   "source": [
    "metals = ['silver','gold','copper','aluminium','gold','silver','silver','copper','aluminium','copper','gold','copper','silver','gold']\n",
    "metals"
   ]
  },
  {
   "cell_type": "code",
   "execution_count": 142,
   "id": "c183d4aa-0027-4e6a-888b-2f607d530af9",
   "metadata": {},
   "outputs": [
    {
     "data": {
      "text/plain": [
       "['silver',\n",
       " 'gold',\n",
       " 'aluminium',\n",
       " 'gold',\n",
       " 'silver',\n",
       " 'silver',\n",
       " 'copper',\n",
       " 'aluminium',\n",
       " 'copper',\n",
       " 'gold',\n",
       " 'copper',\n",
       " 'silver',\n",
       " 'gold']"
      ]
     },
     "execution_count": 142,
     "metadata": {},
     "output_type": "execute_result"
    }
   ],
   "source": [
    "metals.remove('copper')\n",
    "metals"
   ]
  },
  {
   "cell_type": "code",
   "execution_count": 144,
   "id": "4a62eff8-feaf-4829-bc68-760d85498a71",
   "metadata": {},
   "outputs": [
    {
     "data": {
      "text/plain": [
       "['silver',\n",
       " 'gold',\n",
       " 'aluminium',\n",
       " 'gold',\n",
       " 'silver',\n",
       " 'silver',\n",
       " 'aluminium',\n",
       " 'copper',\n",
       " 'gold',\n",
       " 'copper',\n",
       " 'silver',\n",
       " 'gold']"
      ]
     },
     "execution_count": 144,
     "metadata": {},
     "output_type": "execute_result"
    }
   ],
   "source": [
    "metals.remove('copper')\n",
    "metals\n"
   ]
  },
  {
   "cell_type": "code",
   "execution_count": 146,
   "id": "e9e9b3fd-2053-4584-ace7-059a873eba28",
   "metadata": {},
   "outputs": [
    {
     "data": {
      "text/plain": [
       "['silver',\n",
       " 'gold',\n",
       " 'aluminium',\n",
       " 'gold',\n",
       " 'silver',\n",
       " 'silver',\n",
       " 'aluminium',\n",
       " 'gold',\n",
       " 'copper',\n",
       " 'silver',\n",
       " 'gold']"
      ]
     },
     "execution_count": 146,
     "metadata": {},
     "output_type": "execute_result"
    }
   ],
   "source": [
    "metals.remove('copper')\n",
    "metals\n"
   ]
  },
  {
   "cell_type": "code",
   "execution_count": 148,
   "id": "eb09d878-7cda-48aa-b7b6-8b152cf7ede2",
   "metadata": {},
   "outputs": [
    {
     "data": {
      "text/plain": [
       "['silver',\n",
       " 'gold',\n",
       " 'aluminium',\n",
       " 'gold',\n",
       " 'silver',\n",
       " 'silver',\n",
       " 'aluminium',\n",
       " 'gold',\n",
       " 'silver',\n",
       " 'gold']"
      ]
     },
     "execution_count": 148,
     "metadata": {},
     "output_type": "execute_result"
    }
   ],
   "source": [
    "metals.remove('copper')\n",
    "metals\n"
   ]
  },
  {
   "cell_type": "code",
   "execution_count": 150,
   "id": "adfc5c85-2122-4cfe-bd3b-a204340b1020",
   "metadata": {},
   "outputs": [
    {
     "ename": "IndentationError",
     "evalue": "unexpected indent (2357662698.py, line 2)",
     "output_type": "error",
     "traceback": [
      "\u001b[1;36m  Cell \u001b[1;32mIn[150], line 2\u001b[1;36m\u001b[0m\n\u001b[1;33m    for n in num1 :\u001b[0m\n\u001b[1;37m    ^\u001b[0m\n\u001b[1;31mIndentationError\u001b[0m\u001b[1;31m:\u001b[0m unexpected indent\n"
     ]
    }
   ],
   "source": [
    "num1 = 4\n",
    " for n in num1 :\n",
    "     metals.remove('copper')\n",
    "metals"
   ]
  },
  {
   "cell_type": "code",
   "execution_count": 152,
   "id": "abe3a8fc-abbf-4c04-883e-e3d2f01af184",
   "metadata": {},
   "outputs": [
    {
     "ename": "TypeError",
     "evalue": "'int' object is not iterable",
     "output_type": "error",
     "traceback": [
      "\u001b[1;31m---------------------------------------------------------------------------\u001b[0m",
      "\u001b[1;31mTypeError\u001b[0m                                 Traceback (most recent call last)",
      "Cell \u001b[1;32mIn[152], line 2\u001b[0m\n\u001b[0;32m      1\u001b[0m num1 \u001b[38;5;241m=\u001b[39m \u001b[38;5;241m4\u001b[39m\n\u001b[1;32m----> 2\u001b[0m \u001b[38;5;28;01mfor\u001b[39;00m n \u001b[38;5;129;01min\u001b[39;00m num1 :\n\u001b[0;32m      3\u001b[0m      metals\u001b[38;5;241m.\u001b[39mremove(\u001b[38;5;124m'\u001b[39m\u001b[38;5;124mcopper\u001b[39m\u001b[38;5;124m'\u001b[39m)\n\u001b[0;32m      4\u001b[0m metals\n",
      "\u001b[1;31mTypeError\u001b[0m: 'int' object is not iterable"
     ]
    }
   ],
   "source": [
    "num1 = 4\n",
    "for n in num1 :\n",
    "     metals.remove('copper')\n",
    "metals"
   ]
  },
  {
   "cell_type": "code",
   "execution_count": 154,
   "id": "dd1d4fbb-e96e-48ea-a905-5adbf10e6bbf",
   "metadata": {},
   "outputs": [
    {
     "data": {
      "text/plain": [
       "['silver',\n",
       " 'gold',\n",
       " 'copper',\n",
       " 'aluminium',\n",
       " 'gold',\n",
       " 'silver',\n",
       " 'silver',\n",
       " 'copper',\n",
       " 'aluminium',\n",
       " 'copper',\n",
       " 'gold',\n",
       " 'copper',\n",
       " 'silver',\n",
       " 'gold']"
      ]
     },
     "execution_count": 154,
     "metadata": {},
     "output_type": "execute_result"
    }
   ],
   "source": [
    "metals = ['silver','gold','copper','aluminium','gold','silver','silver','copper','aluminium','copper','gold','copper','silver','gold']\n",
    "metals\n"
   ]
  },
  {
   "cell_type": "code",
   "execution_count": 156,
   "id": "eba43cc1-eff7-45ad-9a6f-8ff716b288f2",
   "metadata": {},
   "outputs": [
    {
     "ename": "TypeError",
     "evalue": "'int' object is not iterable",
     "output_type": "error",
     "traceback": [
      "\u001b[1;31m---------------------------------------------------------------------------\u001b[0m",
      "\u001b[1;31mTypeError\u001b[0m                                 Traceback (most recent call last)",
      "Cell \u001b[1;32mIn[156], line 2\u001b[0m\n\u001b[0;32m      1\u001b[0m num1 \u001b[38;5;241m=\u001b[39m \u001b[38;5;241m4\u001b[39m\n\u001b[1;32m----> 2\u001b[0m \u001b[38;5;28;01mfor\u001b[39;00m n \u001b[38;5;129;01min\u001b[39;00m num1 :\n\u001b[0;32m      3\u001b[0m      metals\u001b[38;5;241m.\u001b[39mremove(\u001b[38;5;124m'\u001b[39m\u001b[38;5;124mcopper\u001b[39m\u001b[38;5;124m'\u001b[39m)\n\u001b[0;32m      4\u001b[0m metals\n",
      "\u001b[1;31mTypeError\u001b[0m: 'int' object is not iterable"
     ]
    }
   ],
   "source": [
    "num1 = 4\n",
    "for n in num1 :\n",
    "     metals.remove('copper')\n",
    "metals"
   ]
  },
  {
   "cell_type": "code",
   "execution_count": 158,
   "id": "6a04c7c3-3297-4db1-b0a5-2c65389a0155",
   "metadata": {},
   "outputs": [
    {
     "ename": "ValueError",
     "evalue": "list.remove(x): x not in list",
     "output_type": "error",
     "traceback": [
      "\u001b[1;31m---------------------------------------------------------------------------\u001b[0m",
      "\u001b[1;31mValueError\u001b[0m                                Traceback (most recent call last)",
      "Cell \u001b[1;32mIn[158], line 2\u001b[0m\n\u001b[0;32m      1\u001b[0m \u001b[38;5;28;01mfor\u001b[39;00m n \u001b[38;5;129;01min\u001b[39;00m metals:\n\u001b[1;32m----> 2\u001b[0m      metals\u001b[38;5;241m.\u001b[39mremove(\u001b[38;5;124m'\u001b[39m\u001b[38;5;124mcopper\u001b[39m\u001b[38;5;124m'\u001b[39m)\n\u001b[0;32m      3\u001b[0m metals\n",
      "\u001b[1;31mValueError\u001b[0m: list.remove(x): x not in list"
     ]
    }
   ],
   "source": [
    "for n in metals:\n",
    "     metals.remove('copper')\n",
    "metals"
   ]
  },
  {
   "cell_type": "code",
   "execution_count": 160,
   "id": "8d2e0fff-ccd9-46c1-8669-b32ddc5ab56d",
   "metadata": {},
   "outputs": [
    {
     "ename": "TypeError",
     "evalue": "'int' object is not iterable",
     "output_type": "error",
     "traceback": [
      "\u001b[1;31m---------------------------------------------------------------------------\u001b[0m",
      "\u001b[1;31mTypeError\u001b[0m                                 Traceback (most recent call last)",
      "Cell \u001b[1;32mIn[160], line 2\u001b[0m\n\u001b[0;32m      1\u001b[0m n \u001b[38;5;241m=\u001b[39m \u001b[38;5;241m4\u001b[39m\n\u001b[1;32m----> 2\u001b[0m \u001b[38;5;28;01mfor\u001b[39;00m n \u001b[38;5;129;01min\u001b[39;00m num1 :\n\u001b[0;32m      3\u001b[0m      metals\u001b[38;5;241m.\u001b[39mremove(\u001b[38;5;124m'\u001b[39m\u001b[38;5;124mcopper\u001b[39m\u001b[38;5;124m'\u001b[39m)\n\u001b[0;32m      4\u001b[0m metals\n",
      "\u001b[1;31mTypeError\u001b[0m: 'int' object is not iterable"
     ]
    }
   ],
   "source": [
    "n = 4\n",
    "for n in num1 :\n",
    "     metals.remove('copper')\n",
    "metals"
   ]
  },
  {
   "cell_type": "code",
   "execution_count": 166,
   "id": "b3b3dc5c-5932-4c9e-ba9c-bda4ab0db133",
   "metadata": {},
   "outputs": [
    {
     "name": "stdout",
     "output_type": "stream",
     "text": [
      "['silver', 'gold', 'aluminium', 'gold', 'silver', 'silver', 'aluminium', 'gold', 'silver', 'gold']\n"
     ]
    }
   ],
   "source": [
    "new_metals = []\n",
    "for metal in metals:\n",
    "    if metal != 'copper':\n",
    "        new_metals.append(metal)\n",
    "print(new_metals) \n",
    "                          "
   ]
  },
  {
   "cell_type": "code",
   "execution_count": 168,
   "id": "63c5b0fa-e269-47a5-9521-dece4c01b7d5",
   "metadata": {},
   "outputs": [],
   "source": [
    "num = [45,32,15,67,88,55]"
   ]
  },
  {
   "cell_type": "code",
   "execution_count": 172,
   "id": "1df436dd-cbbd-4199-a08a-e4787860d1f7",
   "metadata": {},
   "outputs": [
    {
     "data": {
      "text/plain": [
       "[22.5, 16.0, 7.5, 33.5, 44.0, 27.5]"
      ]
     },
     "execution_count": 172,
     "metadata": {},
     "output_type": "execute_result"
    }
   ],
   "source": [
    "new = [n/2 for n in num]\n",
    "new"
   ]
  },
  {
   "cell_type": "code",
   "execution_count": 174,
   "id": "355f5b20-3a8c-4d48-a001-ee4bb8b3460e",
   "metadata": {},
   "outputs": [
    {
     "data": {
      "text/plain": [
       "[45, 15, 67, 55]"
      ]
     },
     "execution_count": 174,
     "metadata": {},
     "output_type": "execute_result"
    }
   ],
   "source": [
    "new = [n for n in num if n % 2 == 1]\n",
    "new"
   ]
  },
  {
   "cell_type": "code",
   "execution_count": 176,
   "id": "86e7ce5f-4117-42e6-9540-73b6f7eab60c",
   "metadata": {},
   "outputs": [
    {
     "data": {
      "text/plain": [
       "[32, 88]"
      ]
     },
     "execution_count": 176,
     "metadata": {},
     "output_type": "execute_result"
    }
   ],
   "source": [
    "new = [ n for n in num if n % 2 == 0]\n",
    "new"
   ]
  },
  {
   "cell_type": "code",
   "execution_count": 178,
   "id": "122907c0-7fbe-4da0-89f5-a576cdd2a324",
   "metadata": {},
   "outputs": [
    {
     "data": {
      "text/plain": [
       "[22.5, 7.5, 33.5, 27.5]"
      ]
     },
     "execution_count": 178,
     "metadata": {},
     "output_type": "execute_result"
    }
   ],
   "source": [
    "new = [n/2 for n in num if n % 2 == 1]\n",
    "new"
   ]
  },
  {
   "cell_type": "code",
   "execution_count": 182,
   "id": "e4a017a6-ac6c-462d-b948-94cdd6027ba7",
   "metadata": {},
   "outputs": [
    {
     "data": {
      "text/plain": [
       "[16.0, 44.0]"
      ]
     },
     "execution_count": 182,
     "metadata": {},
     "output_type": "execute_result"
    }
   ],
   "source": [
    "new = [ n/2 for n in num if n % 2 == 0]\n",
    "new\n"
   ]
  },
  {
   "cell_type": "code",
   "execution_count": 192,
   "id": "a9bb63dc-c429-4b94-802d-d7826753d49f",
   "metadata": {},
   "outputs": [
    {
     "data": {
      "text/plain": [
       "['silver',\n",
       " 'gold',\n",
       " 'aluminium',\n",
       " 'gold',\n",
       " 'silver',\n",
       " 'silver',\n",
       " 'aluminium',\n",
       " 'gold',\n",
       " 'silver',\n",
       " 'gold']"
      ]
     },
     "execution_count": 192,
     "metadata": {},
     "output_type": "execute_result"
    }
   ],
   "source": [
    "new_metals = [ metal for metal in metals if metal != 'copper']\n",
    "new_metals\n"
   ]
  },
  {
   "cell_type": "code",
   "execution_count": 190,
   "id": "33663a7d-593d-4231-b86f-d5b21cf072dd",
   "metadata": {},
   "outputs": [
    {
     "data": {
      "text/plain": [
       "['silver',\n",
       " 'gold',\n",
       " 'aluminium',\n",
       " 'gold',\n",
       " 'silver',\n",
       " 'silver',\n",
       " 'aluminium',\n",
       " 'gold',\n",
       " 'silver',\n",
       " 'gold']"
      ]
     },
     "execution_count": 190,
     "metadata": {},
     "output_type": "execute_result"
    }
   ],
   "source": [
    "metals = ['silver','gold','copper','aluminium','gold','silver','silver','copper','aluminium','copper','gold','copper','silver','gold']\n",
    "new = [n for n in  metals if n != 'copper']\n",
    "new"
   ]
  },
  {
   "cell_type": "code",
   "execution_count": 194,
   "id": "82534073-0ee5-4fe5-b2e8-2c6a6874c235",
   "metadata": {},
   "outputs": [
    {
     "data": {
      "text/plain": [
       "[5, 6, 2, 8, 9, 1, 3, 7, 4, 0]"
      ]
     },
     "execution_count": 194,
     "metadata": {},
     "output_type": "execute_result"
    }
   ],
   "source": [
    "new1 = [5,6,2,8,9,1,3,7,4,0]\n",
    "new1"
   ]
  },
  {
   "cell_type": "code",
   "execution_count": 198,
   "id": "e48786c2-1610-4d44-ac4a-fe6f2cf7eea6",
   "metadata": {},
   "outputs": [
    {
     "data": {
      "text/plain": [
       "[0, 1, 2, 3, 4, 5, 6, 7, 8, 9]"
      ]
     },
     "execution_count": 198,
     "metadata": {},
     "output_type": "execute_result"
    }
   ],
   "source": [
    "sorted(new1)"
   ]
  },
  {
   "cell_type": "code",
   "execution_count": 200,
   "id": "b81fe820-dd92-41ee-a2b7-3f90d266a391",
   "metadata": {},
   "outputs": [
    {
     "data": {
      "text/plain": [
       "[5, 6, 2, 8, 9, 1, 3, 7, 4, 0]"
      ]
     },
     "execution_count": 200,
     "metadata": {},
     "output_type": "execute_result"
    }
   ],
   "source": [
    "new1 = [5,6,2,8,9,1,3,7,4,0]\n",
    "new1\n"
   ]
  },
  {
   "cell_type": "code",
   "execution_count": 207,
   "id": "30aabb5d-e718-4e20-9f43-2988a75d0640",
   "metadata": {},
   "outputs": [
    {
     "data": {
      "text/plain": [
       "[0, 1, 2, 3, 4, 5, 6, 7, 8, 9]"
      ]
     },
     "execution_count": 207,
     "metadata": {},
     "output_type": "execute_result"
    }
   ],
   "source": [
    "sorted(new1)"
   ]
  },
  {
   "cell_type": "code",
   "execution_count": 209,
   "id": "38ffc970-ed17-4415-9b0c-ad7720d931c7",
   "metadata": {},
   "outputs": [
    {
     "data": {
      "text/plain": [
       "[5, 6, 2, 8, 9, 1, 3, 7, 4, 0]"
      ]
     },
     "execution_count": 209,
     "metadata": {},
     "output_type": "execute_result"
    }
   ],
   "source": [
    "new1 = [5,6,2,8,9,1,3,7,4,0]\n",
    "new1\n"
   ]
  },
  {
   "cell_type": "code",
   "execution_count": 211,
   "id": "9b2b5b53-fe76-4ce5-84a1-5f0d1fa6cf23",
   "metadata": {},
   "outputs": [
    {
     "data": {
      "text/plain": [
       "[9, 1, 3, 7, 4, 0]"
      ]
     },
     "execution_count": 211,
     "metadata": {},
     "output_type": "execute_result"
    }
   ],
   "source": [
    "new1 = [5,6,2,8,9,1,3,7,4,0]\n",
    "new1\n",
    "x =  new1[4:10]\n",
    "x"
   ]
  },
  {
   "cell_type": "code",
   "execution_count": 215,
   "id": "851682d8-09ae-480f-bc42-cb116ca9d06f",
   "metadata": {},
   "outputs": [
    {
     "data": {
      "text/plain": [
       "[1, 3, 7, 4, 0]"
      ]
     },
     "execution_count": 215,
     "metadata": {},
     "output_type": "execute_result"
    }
   ],
   "source": [
    "new1 = [5,6,2,8,9,1,3,7,4,0]\n",
    "new1\n",
    "x =  new1[5:11]\n",
    "x"
   ]
  },
  {
   "cell_type": "code",
   "execution_count": 217,
   "id": "95f10b40-acb1-4ad1-9f24-332d3391dbdb",
   "metadata": {},
   "outputs": [
    {
     "data": {
      "text/plain": [
       "[45, 32, 15, 67, 88, 55]"
      ]
     },
     "execution_count": 217,
     "metadata": {},
     "output_type": "execute_result"
    }
   ],
   "source": [
    "lower = num[:5]\n",
    "higher = num[5:]\n",
    "higher.sort()\n",
    "new = lower + higher\n",
    "new"
   ]
  },
  {
   "cell_type": "code",
   "execution_count": 219,
   "id": "8c783b8a-cd87-4c79-a29e-a199029b84db",
   "metadata": {},
   "outputs": [
    {
     "data": {
      "text/plain": [
       "[5, 6, 2, 8, 9, 1, 3, 7, 4, 0]"
      ]
     },
     "execution_count": 219,
     "metadata": {},
     "output_type": "execute_result"
    }
   ],
   "source": [
    "num = [5,6,2,8,9,1,3,7,4,0]\n",
    "num"
   ]
  },
  {
   "cell_type": "code",
   "execution_count": 221,
   "id": "82cf9801-54b3-4d98-8cd2-3612b278eeff",
   "metadata": {},
   "outputs": [
    {
     "data": {
      "text/plain": [
       "[5, 6, 2, 8, 9, 0, 1, 3, 4, 7]"
      ]
     },
     "execution_count": 221,
     "metadata": {},
     "output_type": "execute_result"
    }
   ],
   "source": [
    "lower = num[:5]\n",
    "higher = num[5:]\n",
    "higher.sort()\n",
    "new = lower + higher\n",
    "new\n"
   ]
  },
  {
   "cell_type": "code",
   "execution_count": 223,
   "id": "470cf1f3-b1a2-4a4c-bf8e-31921b6bc67b",
   "metadata": {},
   "outputs": [
    {
     "data": {
      "text/plain": [
       "[5, 6, 2, 8, 9, 0, 1, 3, 4, 7]"
      ]
     },
     "execution_count": 223,
     "metadata": {},
     "output_type": "execute_result"
    }
   ],
   "source": [
    "num[:5] + sorted(num[5:])"
   ]
  },
  {
   "cell_type": "code",
   "execution_count": 225,
   "id": "9436f4ac-f4b7-44b8-95ef-413ce7582128",
   "metadata": {},
   "outputs": [
    {
     "data": {
      "text/plain": [
       "tuple"
      ]
     },
     "execution_count": 225,
     "metadata": {},
     "output_type": "execute_result"
    }
   ],
   "source": [
    "###### tuple\n",
    "num = (34,12,67,83,46,41,10)\n",
    "type(num)"
   ]
  },
  {
   "cell_type": "code",
   "execution_count": 227,
   "id": "edb08fcb-3409-483b-9751-2b19fa1a2f1e",
   "metadata": {},
   "outputs": [
    {
     "data": {
      "text/plain": [
       "10"
      ]
     },
     "execution_count": 227,
     "metadata": {},
     "output_type": "execute_result"
    }
   ],
   "source": [
    "num[6]"
   ]
  },
  {
   "cell_type": "code",
   "execution_count": 229,
   "id": "1c2529ce-48f5-4c47-82ba-1bc49d93ff25",
   "metadata": {},
   "outputs": [
    {
     "ename": "TypeError",
     "evalue": "'tuple' object does not support item assignment",
     "output_type": "error",
     "traceback": [
      "\u001b[1;31m---------------------------------------------------------------------------\u001b[0m",
      "\u001b[1;31mTypeError\u001b[0m                                 Traceback (most recent call last)",
      "Cell \u001b[1;32mIn[229], line 1\u001b[0m\n\u001b[1;32m----> 1\u001b[0m num[\u001b[38;5;241m3\u001b[39m] \u001b[38;5;241m=\u001b[39m \u001b[38;5;241m56\u001b[39m\n",
      "\u001b[1;31mTypeError\u001b[0m: 'tuple' object does not support item assignment"
     ]
    }
   ],
   "source": [
    "num[3] = 56"
   ]
  },
  {
   "cell_type": "code",
   "execution_count": 231,
   "id": "120428dd-cc7b-46ce-ba2d-2370eb6f32ea",
   "metadata": {},
   "outputs": [],
   "source": [
    "num = (34,12,67,83,46,41,10)"
   ]
  },
  {
   "cell_type": "code",
   "execution_count": 233,
   "id": "3fc85ca3-a27d-4739-9420-84e5928b91c6",
   "metadata": {},
   "outputs": [],
   "source": [
    "num = 34,12,67,83,46,41,10"
   ]
  },
  {
   "cell_type": "code",
   "execution_count": 235,
   "id": "56de60ea-cc6e-48d6-a589-c3d95a796232",
   "metadata": {},
   "outputs": [
    {
     "data": {
      "text/plain": [
       "(34, 12, 67, 83, 46, 41, 10)"
      ]
     },
     "execution_count": 235,
     "metadata": {},
     "output_type": "execute_result"
    }
   ],
   "source": [
    "num"
   ]
  },
  {
   "cell_type": "code",
   "execution_count": 241,
   "id": "f4ad8bce-d904-4968-a1ae-27e1fd590b3a",
   "metadata": {},
   "outputs": [
    {
     "data": {
      "text/plain": [
       "{2, 4, 5, 6, 7, 8}"
      ]
     },
     "execution_count": 241,
     "metadata": {},
     "output_type": "execute_result"
    }
   ],
   "source": [
    "####  set \n",
    "s = {5,4,2,7,5,4,6,5,7,8}\n",
    "type(s)\n",
    "s\n"
   ]
  },
  {
   "cell_type": "markdown",
   "id": "c2019238-36b1-42a8-93a6-c24c5b72f1c6",
   "metadata": {},
   "source": [
    "#### \n",
    "s[4]"
   ]
  },
  {
   "cell_type": "code",
   "execution_count": 244,
   "id": "f12d0003-31cc-4818-adfd-7740acc94cea",
   "metadata": {},
   "outputs": [
    {
     "ename": "TypeError",
     "evalue": "'set' object is not subscriptable",
     "output_type": "error",
     "traceback": [
      "\u001b[1;31m---------------------------------------------------------------------------\u001b[0m",
      "\u001b[1;31mTypeError\u001b[0m                                 Traceback (most recent call last)",
      "Cell \u001b[1;32mIn[244], line 1\u001b[0m\n\u001b[1;32m----> 1\u001b[0m s[\u001b[38;5;241m4\u001b[39m]\n",
      "\u001b[1;31mTypeError\u001b[0m: 'set' object is not subscriptable"
     ]
    }
   ],
   "source": [
    "s[4]"
   ]
  },
  {
   "cell_type": "code",
   "execution_count": 246,
   "id": "10f645d2-e1ac-4804-a502-84f32b01d5f2",
   "metadata": {},
   "outputs": [],
   "source": [
    "s.add(2)"
   ]
  },
  {
   "cell_type": "code",
   "execution_count": 248,
   "id": "215cac06-ea18-4dd4-a9ab-af65ec8c0dfe",
   "metadata": {},
   "outputs": [
    {
     "data": {
      "text/plain": [
       "{2, 4, 5, 6, 7, 8}"
      ]
     },
     "execution_count": 248,
     "metadata": {},
     "output_type": "execute_result"
    }
   ],
   "source": [
    "s\n"
   ]
  },
  {
   "cell_type": "code",
   "execution_count": 250,
   "id": "0a85cede-2ac6-40fc-9c1d-3796307be299",
   "metadata": {},
   "outputs": [
    {
     "data": {
      "text/plain": [
       "{2, 4, 5, 6, 7, 8, 10}"
      ]
     },
     "execution_count": 250,
     "metadata": {},
     "output_type": "execute_result"
    }
   ],
   "source": [
    "s.add(10)\n",
    "s"
   ]
  },
  {
   "cell_type": "code",
   "execution_count": 254,
   "id": "25c73972-8a0e-4918-bef8-34938c2c9366",
   "metadata": {},
   "outputs": [
    {
     "data": {
      "text/plain": [
       "{2, 4, 5, 6, 7, 8, 10, 20}"
      ]
     },
     "execution_count": 254,
     "metadata": {},
     "output_type": "execute_result"
    }
   ],
   "source": [
    "s.add(20)\n",
    "s"
   ]
  },
  {
   "cell_type": "code",
   "execution_count": 256,
   "id": "d2b307c6-aae0-47f6-8966-ee1c7fc2beb9",
   "metadata": {},
   "outputs": [
    {
     "data": {
      "text/plain": [
       "{1, 2, 3, 4, 5, 6, 7, 8}"
      ]
     },
     "execution_count": 256,
     "metadata": {},
     "output_type": "execute_result"
    }
   ],
   "source": [
    "s1 = {1,2,3,4,5,6}\n",
    "s2 = {1,3,4,5,6,7,8}\n",
    "s1.union(s2)"
   ]
  },
  {
   "cell_type": "code",
   "execution_count": 258,
   "id": "5d9ddd43-5c3f-4539-a2fc-ab6e5d4763ab",
   "metadata": {},
   "outputs": [
    {
     "data": {
      "text/plain": [
       "{1, 3, 4, 5, 6}"
      ]
     },
     "execution_count": 258,
     "metadata": {},
     "output_type": "execute_result"
    }
   ],
   "source": [
    "s1.intersection(s2)\n"
   ]
  },
  {
   "cell_type": "code",
   "execution_count": 260,
   "id": "58dfab36-83d3-4bcb-a9d1-8f7943c302bd",
   "metadata": {},
   "outputs": [
    {
     "data": {
      "text/plain": [
       "{2}"
      ]
     },
     "execution_count": 260,
     "metadata": {},
     "output_type": "execute_result"
    }
   ],
   "source": [
    "s1.difference(s2)"
   ]
  },
  {
   "cell_type": "code",
   "execution_count": 262,
   "id": "acb69cdc-4fc1-46e0-952c-557c7856b10d",
   "metadata": {},
   "outputs": [
    {
     "data": {
      "text/plain": [
       "{7, 8}"
      ]
     },
     "execution_count": 262,
     "metadata": {},
     "output_type": "execute_result"
    }
   ],
   "source": [
    "s2.difference(s1)"
   ]
  },
  {
   "cell_type": "code",
   "execution_count": 264,
   "id": "3d49c651-775a-4137-a2dc-910ca03966cc",
   "metadata": {},
   "outputs": [
    {
     "data": {
      "text/plain": [
       "dict"
      ]
     },
     "execution_count": 264,
     "metadata": {},
     "output_type": "execute_result"
    }
   ],
   "source": [
    "d = {2:56, 5:27, 6:379, 7:372, 'a': 'apple'}\n",
    "type(d)"
   ]
  },
  {
   "cell_type": "code",
   "execution_count": 266,
   "id": "e824811c-9bd3-48b7-9cfb-f59b85bd67bf",
   "metadata": {},
   "outputs": [
    {
     "data": {
      "text/plain": [
       "56"
      ]
     },
     "execution_count": 266,
     "metadata": {},
     "output_type": "execute_result"
    }
   ],
   "source": [
    "d[2]"
   ]
  },
  {
   "cell_type": "code",
   "execution_count": 268,
   "id": "30d3da70-d877-4a46-afce-e9e7e1c1354a",
   "metadata": {},
   "outputs": [
    {
     "data": {
      "text/plain": [
       "'apple'"
      ]
     },
     "execution_count": 268,
     "metadata": {},
     "output_type": "execute_result"
    }
   ],
   "source": [
    "d['a']"
   ]
  },
  {
   "cell_type": "code",
   "execution_count": 270,
   "id": "654f1a45-57f1-401b-aabf-e4649f3b2465",
   "metadata": {},
   "outputs": [
    {
     "data": {
      "text/plain": [
       "{2: 56, 5: 27, 6: 1000, 7: 372, 'a': 'apple'}"
      ]
     },
     "execution_count": 270,
     "metadata": {},
     "output_type": "execute_result"
    }
   ],
   "source": [
    "d[6] = 1000\n",
    "d"
   ]
  },
  {
   "cell_type": "code",
   "execution_count": 272,
   "id": "9573476b-96a3-47d2-a3d4-dbacc98b0e4c",
   "metadata": {},
   "outputs": [
    {
     "data": {
      "text/plain": [
       "{2: 56, 5: 27, 6: 1000, 7: 372, 'a': 'apple', 'z': 'zebra'}"
      ]
     },
     "execution_count": 272,
     "metadata": {},
     "output_type": "execute_result"
    }
   ],
   "source": [
    "d['z'] = 'zebra'\n",
    "d"
   ]
  },
  {
   "cell_type": "code",
   "execution_count": 274,
   "id": "5ee0c84b-9e8d-435b-8ce7-84fa18f7e985",
   "metadata": {},
   "outputs": [
    {
     "data": {
      "text/plain": [
       "dict"
      ]
     },
     "execution_count": 274,
     "metadata": {},
     "output_type": "execute_result"
    }
   ],
   "source": [
    "x = {}\n",
    "type(x)"
   ]
  },
  {
   "cell_type": "code",
   "execution_count": 276,
   "id": "1c6c2e35-41d9-47bf-afd5-d6f24e89b9f4",
   "metadata": {},
   "outputs": [],
   "source": [
    "l = [5,4,6,2,5,3,5,0]\n",
    "t = (7,8,5,3,1,2,3,4)\n",
    "s = {6,5,7,6,8,9,9,9}\n"
   ]
  },
  {
   "cell_type": "code",
   "execution_count": 278,
   "id": "416ddd99-5c7c-475f-8c55-6ef4e78c9849",
   "metadata": {},
   "outputs": [
    {
     "data": {
      "text/plain": [
       "{0, 2, 3, 4, 5, 6}"
      ]
     },
     "execution_count": 278,
     "metadata": {},
     "output_type": "execute_result"
    }
   ],
   "source": [
    "set(l)"
   ]
  },
  {
   "cell_type": "code",
   "execution_count": 282,
   "id": "118e0903-2452-4e4d-9daa-3ffb2717a4fd",
   "metadata": {},
   "outputs": [
    {
     "data": {
      "text/plain": [
       "[7, 8, 5, 3, 1, 2, 3, 4]"
      ]
     },
     "execution_count": 282,
     "metadata": {},
     "output_type": "execute_result"
    }
   ],
   "source": [
    "list(t)"
   ]
  },
  {
   "cell_type": "code",
   "execution_count": 298,
   "id": "ed263518-98fe-436d-b069-7dd942a96cb8",
   "metadata": {},
   "outputs": [],
   "source": [
    "def show():\n",
    "    print(\"Hello world\")\n",
    "   \n",
    "\n"
   ]
  },
  {
   "cell_type": "code",
   "execution_count": null,
   "id": "b04d6e57-0eef-4f84-a0c1-e3ea85392c8c",
   "metadata": {},
   "outputs": [],
   "source": []
  },
  {
   "cell_type": "code",
   "execution_count": 302,
   "id": "1949701f-c308-4444-a223-bd6f0a4395f1",
   "metadata": {},
   "outputs": [
    {
     "name": "stdout",
     "output_type": "stream",
     "text": [
      "Hello world\n"
     ]
    }
   ],
   "source": [
    "def show():\n",
    "    print(\"Hello world\")\n",
    "show()\n"
   ]
  },
  {
   "cell_type": "code",
   "execution_count": null,
   "id": "61734e59-4f25-4d22-8601-b9c92ae4b45b",
   "metadata": {},
   "outputs": [],
   "source": []
  }
 ],
 "metadata": {
  "kernelspec": {
   "display_name": "Python 3 (ipykernel)",
   "language": "python",
   "name": "python3"
  },
  "language_info": {
   "codemirror_mode": {
    "name": "ipython",
    "version": 3
   },
   "file_extension": ".py",
   "mimetype": "text/x-python",
   "name": "python",
   "nbconvert_exporter": "python",
   "pygments_lexer": "ipython3",
   "version": "3.12.4"
  }
 },
 "nbformat": 4,
 "nbformat_minor": 5
}
