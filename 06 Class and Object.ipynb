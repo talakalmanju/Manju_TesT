{
 "cells": [
  {
   "cell_type": "code",
   "execution_count": 9,
   "id": "1cce7df4-ae5e-448d-b8f0-2bd10d9bff55",
   "metadata": {},
   "outputs": [],
   "source": [
    "#### define the class\n",
    "class  Person:\n",
    "    # constructor\n",
    "    def __init__(self, n,a):\n",
    "        self.name = n  # instance varibles\n",
    "        slef.age = a   # name and age are attributes / properties\n",
    "    def show(self):\n",
    "        print('My data:', sel.name,self.age) \n",
    "        "
   ]
  },
  {
   "cell_type": "code",
   "execution_count": 11,
   "id": "70c7ab3c-74f3-4953-b2d9-416a2ad7baa1",
   "metadata": {},
   "outputs": [
    {
     "ename": "NameError",
     "evalue": "name 'slef' is not defined",
     "output_type": "error",
     "traceback": [
      "\u001b[1;31m---------------------------------------------------------------------------\u001b[0m",
      "\u001b[1;31mNameError\u001b[0m                                 Traceback (most recent call last)",
      "Cell \u001b[1;32mIn[11], line 2\u001b[0m\n\u001b[0;32m      1\u001b[0m \u001b[38;5;66;03m## create the object \u001b[39;00m\n\u001b[1;32m----> 2\u001b[0m ob1 \u001b[38;5;241m=\u001b[39m Person(\u001b[38;5;124m'\u001b[39m\u001b[38;5;124mAnil\u001b[39m\u001b[38;5;124m'\u001b[39m,\u001b[38;5;241m34\u001b[39m)\n",
      "Cell \u001b[1;32mIn[9], line 6\u001b[0m, in \u001b[0;36mPerson.__init__\u001b[1;34m(self, n, a)\u001b[0m\n\u001b[0;32m      4\u001b[0m \u001b[38;5;28;01mdef\u001b[39;00m \u001b[38;5;21m__init__\u001b[39m(\u001b[38;5;28mself\u001b[39m, n,a):\n\u001b[0;32m      5\u001b[0m     \u001b[38;5;28mself\u001b[39m\u001b[38;5;241m.\u001b[39mname \u001b[38;5;241m=\u001b[39m n  \u001b[38;5;66;03m# instance varibles\u001b[39;00m\n\u001b[1;32m----> 6\u001b[0m     slef\u001b[38;5;241m.\u001b[39mage \u001b[38;5;241m=\u001b[39m a\n",
      "\u001b[1;31mNameError\u001b[0m: name 'slef' is not defined"
     ]
    }
   ],
   "source": [
    "## create the object \n",
    "ob1 = Person('Anil',34) "
   ]
  },
  {
   "cell_type": "code",
   "execution_count": 13,
   "id": "cc0dc34b-c35d-4bca-a88d-a417b0c08a1d",
   "metadata": {},
   "outputs": [],
   "source": [
    "class  Person:\n",
    "    # constructor\n",
    "    def __init__(self, n,a):\n",
    "        self.name = n  # instance varibles\n",
    "        self.age = a   # name and age are attributes / properties\n",
    "    def show(self):\n",
    "        print('My data:', sel.name,self.age) \n"
   ]
  },
  {
   "cell_type": "code",
   "execution_count": 15,
   "id": "6be7c522-03be-4aa8-8b0d-2851f9724ae1",
   "metadata": {},
   "outputs": [
    {
     "ename": "NameError",
     "evalue": "name 'slef' is not defined",
     "output_type": "error",
     "traceback": [
      "\u001b[1;31m---------------------------------------------------------------------------\u001b[0m",
      "\u001b[1;31mNameError\u001b[0m                                 Traceback (most recent call last)",
      "Cell \u001b[1;32mIn[15], line 1\u001b[0m\n\u001b[1;32m----> 1\u001b[0m ob1 \u001b[38;5;241m=\u001b[39m Person(\u001b[38;5;124m'\u001b[39m\u001b[38;5;124mAnil\u001b[39m\u001b[38;5;124m'\u001b[39m,\u001b[38;5;241m34\u001b[39m)\n",
      "Cell \u001b[1;32mIn[13], line 5\u001b[0m, in \u001b[0;36mPerson.__init__\u001b[1;34m(self, n, a)\u001b[0m\n\u001b[0;32m      3\u001b[0m \u001b[38;5;28;01mdef\u001b[39;00m \u001b[38;5;21m__init__\u001b[39m(\u001b[38;5;28mself\u001b[39m, n,a):\n\u001b[0;32m      4\u001b[0m     \u001b[38;5;28mself\u001b[39m\u001b[38;5;241m.\u001b[39mname \u001b[38;5;241m=\u001b[39m n  \u001b[38;5;66;03m# instance varibles\u001b[39;00m\n\u001b[1;32m----> 5\u001b[0m     slef\u001b[38;5;241m.\u001b[39mage \u001b[38;5;241m=\u001b[39m a\n",
      "\u001b[1;31mNameError\u001b[0m: name 'slef' is not defined"
     ]
    }
   ],
   "source": [
    "ob1 = Person('Anil',34) "
   ]
  },
  {
   "cell_type": "code",
   "execution_count": 27,
   "id": "266359a3-eb6f-4d55-96ca-486413560197",
   "metadata": {},
   "outputs": [],
   "source": [
    "class  Person:\n",
    "    # constructor\n",
    "    def __init__(self, n,a):\n",
    "        self.name = n  # instance varibles\n",
    "        self.age = a   # name and age are attributes / properties\n",
    "    def show(self):\n",
    "        print('My data:', self.name,self.age)\n",
    "        "
   ]
  },
  {
   "cell_type": "code",
   "execution_count": 19,
   "id": "939269ec-a12f-433f-8fa3-adf9a6eb2127",
   "metadata": {},
   "outputs": [],
   "source": [
    "ob1 = Person('Anil',34) \n"
   ]
  },
  {
   "cell_type": "code",
   "execution_count": 23,
   "id": "b2df67e4-d6e1-44db-b669-6ef41ef0ce07",
   "metadata": {},
   "outputs": [
    {
     "data": {
      "text/plain": [
       "('Sunita', 27)"
      ]
     },
     "execution_count": 23,
     "metadata": {},
     "output_type": "execute_result"
    }
   ],
   "source": [
    "ob2 = Person('Sunita',27)\n",
    "ob2.name, ob2.age"
   ]
  },
  {
   "cell_type": "code",
   "execution_count": null,
   "id": "c71665b6-f666-43b6-9c41-b5bab5e79c73",
   "metadata": {},
   "outputs": [],
   "source": []
  },
  {
   "cell_type": "code",
   "execution_count": 31,
   "id": "7e5b8670-88fd-48b2-bf67-69c8e45784c7",
   "metadata": {},
   "outputs": [],
   "source": [
    "class  Person:\n",
    "    # constructor\n",
    "    def __init__(self, n,a):\n",
    "        self.name = n  # instance varibles\n",
    "        self.age = a   # name and age are attributes / properties\n",
    "    def show(self):\n",
    "        print('My data:', self.name, self.age)"
   ]
  },
  {
   "cell_type": "code",
   "execution_count": null,
   "id": "149a9ec1-343e-4370-a80b-cbacf2fbcd84",
   "metadata": {},
   "outputs": [],
   "source": [
    "\n"
   ]
  },
  {
   "cell_type": "code",
   "execution_count": 43,
   "id": "40ff6a2b-9d87-4205-b974-648fe50fb443",
   "metadata": {},
   "outputs": [],
   "source": [
    "class  Person:\n",
    "    # constructor\n",
    "    def __init__(self, n,a):\n",
    "        self.name = n  # instance varibles\n",
    "        self.age = a   # name and age are attributes / properties\n",
    "    def show(self):\n",
    "        print('My data:', self.name, self.age)\n",
    "    def isEligibleForVoting(self):\n",
    "        if self.age >= 21:\n",
    "            return True\n",
    "        else:\n",
    "            return False"
   ]
  },
  {
   "cell_type": "code",
   "execution_count": 37,
   "id": "12121d18-a8cd-4428-8a50-a791c0b1143c",
   "metadata": {},
   "outputs": [],
   "source": [
    "ob1 = Person('Anil',34)"
   ]
  },
  {
   "cell_type": "code",
   "execution_count": 39,
   "id": "f73ba492-4f6d-4cad-8bdb-db3e17b7fa12",
   "metadata": {},
   "outputs": [
    {
     "data": {
      "text/plain": [
       "('Sunita', 27)"
      ]
     },
     "execution_count": 39,
     "metadata": {},
     "output_type": "execute_result"
    }
   ],
   "source": [
    "ob2 = Person('Sunita',27)\n",
    "ob2.name, ob2.age"
   ]
  },
  {
   "cell_type": "code",
   "execution_count": 41,
   "id": "0ede1491-0992-4d8f-bf30-bc205afe4f63",
   "metadata": {},
   "outputs": [
    {
     "name": "stdout",
     "output_type": "stream",
     "text": [
      "My data: Anil 34\n"
     ]
    }
   ],
   "source": [
    "ob1.show()"
   ]
  },
  {
   "cell_type": "code",
   "execution_count": 45,
   "id": "0b215c2e-86bb-4355-aff3-93b01885a16e",
   "metadata": {},
   "outputs": [],
   "source": [
    "class  Person:\n",
    "    # constructor\n",
    "    def __init__(self, n,a):\n",
    "        self.name = n  # instance varibles\n",
    "        self.age = a   # name and age are attributes / properties\n",
    "    def show(self):\n",
    "        print('My data:', self.name, self.age)\n",
    "    def isEligibleForVoting(self):\n",
    "        if self.age >= 21:\n",
    "            return True\n",
    "        else:\n",
    "            return False"
   ]
  },
  {
   "cell_type": "code",
   "execution_count": 47,
   "id": "7081e440-a3da-4434-87ed-4e70e64744d7",
   "metadata": {},
   "outputs": [],
   "source": [
    "ob3 = Person('Ram',17)\n",
    "ob4 = Person('Keshav',34)"
   ]
  },
  {
   "cell_type": "code",
   "execution_count": 49,
   "id": "4471b6da-b0fc-4923-97a6-d91f7f07f62d",
   "metadata": {},
   "outputs": [
    {
     "data": {
      "text/plain": [
       "False"
      ]
     },
     "execution_count": 49,
     "metadata": {},
     "output_type": "execute_result"
    }
   ],
   "source": [
    "ob3.isEligibleForVoting()"
   ]
  },
  {
   "cell_type": "code",
   "execution_count": 51,
   "id": "0ad117ec-2867-4beb-9709-17b583d879a4",
   "metadata": {},
   "outputs": [
    {
     "data": {
      "text/plain": [
       "True"
      ]
     },
     "execution_count": 51,
     "metadata": {},
     "output_type": "execute_result"
    }
   ],
   "source": [
    "ob4.isEligibleForVoting()"
   ]
  },
  {
   "cell_type": "code",
   "execution_count": 55,
   "id": "ebb92f1c-e1e2-4d50-a5d8-7666bbec5d26",
   "metadata": {},
   "outputs": [
    {
     "name": "stdout",
     "output_type": "stream",
     "text": [
      "My data: Ram 17\n"
     ]
    }
   ],
   "source": [
    "ob3.show()"
   ]
  },
  {
   "cell_type": "code",
   "execution_count": 57,
   "id": "0fb2a61c-9002-41ba-b77e-ddb679c1dfb4",
   "metadata": {},
   "outputs": [
    {
     "name": "stdout",
     "output_type": "stream",
     "text": [
      "My data: Keshav 34\n"
     ]
    }
   ],
   "source": [
    "ob4.show()"
   ]
  },
  {
   "cell_type": "code",
   "execution_count": null,
   "id": "c46d17b8-b11b-4e29-821c-ea8aae2b5994",
   "metadata": {},
   "outputs": [],
   "source": [
    "ob3."
   ]
  }
 ],
 "metadata": {
  "kernelspec": {
   "display_name": "Python 3 (ipykernel)",
   "language": "python",
   "name": "python3"
  },
  "language_info": {
   "codemirror_mode": {
    "name": "ipython",
    "version": 3
   },
   "file_extension": ".py",
   "mimetype": "text/x-python",
   "name": "python",
   "nbconvert_exporter": "python",
   "pygments_lexer": "ipython3",
   "version": "3.12.4"
  }
 },
 "nbformat": 4,
 "nbformat_minor": 5
}
