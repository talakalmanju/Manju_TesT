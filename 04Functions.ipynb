{
 "cells": [
  {
   "cell_type": "code",
   "execution_count": 5,
   "id": "d2e42a3b-015f-4223-ab92-fe6b2c09b7f7",
   "metadata": {},
   "outputs": [
    {
     "name": "stdout",
     "output_type": "stream",
     "text": [
      "I am manjunatha\n",
      "Good bye\n",
      "I am manjunatha\n",
      "Good bye\n"
     ]
    }
   ],
   "source": [
    "#### simple functions\n",
    "\n",
    "def show():\n",
    "    print(\"I am manjunatha\")\n",
    "    print(\"Good bye\")\n",
    "show()\n",
    "show()"
   ]
  },
  {
   "cell_type": "code",
   "execution_count": 7,
   "id": "05156427-cb47-4563-a5ac-bb7a343ff66e",
   "metadata": {},
   "outputs": [],
   "source": [
    "### parameterized functions\n",
    "\n",
    "def square(n):\n",
    "    sq = n *n\n",
    "    print(sq)\n",
    "    \n"
   ]
  },
  {
   "cell_type": "code",
   "execution_count": 9,
   "id": "16ca199b-6343-4eb7-9776-c8c179550b82",
   "metadata": {},
   "outputs": [
    {
     "name": "stdout",
     "output_type": "stream",
     "text": [
      "81\n"
     ]
    }
   ],
   "source": [
    "square(9)"
   ]
  },
  {
   "cell_type": "code",
   "execution_count": 11,
   "id": "bdacb164-bc15-4512-b0a0-026476deb937",
   "metadata": {},
   "outputs": [],
   "source": [
    "def sqaure(n):\n",
    "    sq = n * n\n",
    "    print(sq)\n",
    "    "
   ]
  },
  {
   "cell_type": "code",
   "execution_count": 13,
   "id": "58ad19f5-ff0d-419a-a061-a52fdc769ebf",
   "metadata": {},
   "outputs": [
    {
     "name": "stdout",
     "output_type": "stream",
     "text": [
      "1000000\n"
     ]
    }
   ],
   "source": [
    "sqaure(1000)\n",
    "       "
   ]
  },
  {
   "cell_type": "code",
   "execution_count": 15,
   "id": "f163ddd7-2bd0-4188-8d43-61d982bfe906",
   "metadata": {},
   "outputs": [],
   "source": [
    "### Returning the values\n",
    "def compare(x,y):\n",
    "    if x > y:\n",
    "        return x\n",
    "    else:\n",
    "        return y"
   ]
  },
  {
   "cell_type": "code",
   "execution_count": 19,
   "id": "45f4b9b4-17c8-40f1-a274-0b687d74f37f",
   "metadata": {},
   "outputs": [
    {
     "data": {
      "text/plain": [
       "7"
      ]
     },
     "execution_count": 19,
     "metadata": {},
     "output_type": "execute_result"
    }
   ],
   "source": [
    "t= compare(5,7)\n",
    "t"
   ]
  },
  {
   "cell_type": "code",
   "execution_count": 21,
   "id": "2db5999d-0076-4cb7-ad40-9f5f78b0a5e5",
   "metadata": {},
   "outputs": [
    {
     "data": {
      "text/plain": [
       "40"
      ]
     },
     "execution_count": 21,
     "metadata": {},
     "output_type": "execute_result"
    }
   ],
   "source": [
    " 5 * compare(4,8)"
   ]
  },
  {
   "cell_type": "code",
   "execution_count": 23,
   "id": "384db7df-8fc6-4fc6-8552-c9f0bdb612f9",
   "metadata": {},
   "outputs": [],
   "source": [
    "def calc(num):\n",
    "    sq =  num * num\n",
    "    cu = sq * num\n",
    "    return sq, cu\n",
    "    "
   ]
  },
  {
   "cell_type": "code",
   "execution_count": 29,
   "id": "f52dc86b-15fa-4ad4-afa9-0976381e2cd8",
   "metadata": {},
   "outputs": [
    {
     "name": "stdout",
     "output_type": "stream",
     "text": [
      "square and cube are (9, 27)\n"
     ]
    }
   ],
   "source": [
    "print('square and cube are', calc(3))"
   ]
  },
  {
   "cell_type": "code",
   "execution_count": 33,
   "id": "d5e267e6-fedf-4004-b27e-29821c7496e8",
   "metadata": {},
   "outputs": [
    {
     "name": "stdout",
     "output_type": "stream",
     "text": [
      "suare and cuba: 81 729\n"
     ]
    }
   ],
   "source": [
    "x , y  = calc(9)\n",
    "print('suare and cuba:',x,y)"
   ]
  },
  {
   "cell_type": "code",
   "execution_count": 35,
   "id": "13e3412a-3a2c-420c-ab8f-f28cfcadf7c0",
   "metadata": {},
   "outputs": [
    {
     "name": "stdout",
     "output_type": "stream",
     "text": [
      "Help on built-in function max in module builtins:\n",
      "\n",
      "max(...)\n",
      "    max(iterable, *[, default=obj, key=func]) -> value\n",
      "    max(arg1, arg2, *args, *[, key=func]) -> value\n",
      "\n",
      "    With a single iterable argument, return its biggest item. The\n",
      "    default keyword-only argument specifies an object to return if\n",
      "    the provided iterable is empty.\n",
      "    With two or more arguments, return the largest argument.\n",
      "\n"
     ]
    }
   ],
   "source": [
    "help(max)"
   ]
  },
  {
   "cell_type": "code",
   "execution_count": 37,
   "id": "47c84833-6614-4bb3-a495-70b952d4b4a8",
   "metadata": {},
   "outputs": [],
   "source": [
    "### Default parameters\n",
    "def add(x=5, y=7, z=3):\n",
    "    a= x + y + z\n",
    "    return a\n",
    "    "
   ]
  },
  {
   "cell_type": "code",
   "execution_count": 53,
   "id": "c091da5e-4f56-4a8f-8186-2b1cf60956cb",
   "metadata": {},
   "outputs": [
    {
     "name": "stdout",
     "output_type": "stream",
     "text": [
      "Call-1 12\n"
     ]
    }
   ],
   "source": [
    "print('Call-1', add(4,6,2))\n",
    "\n",
    "      "
   ]
  },
  {
   "cell_type": "code",
   "execution_count": 55,
   "id": "63cdc23b-2ea6-4c72-8fb9-0bb1cc1dd32e",
   "metadata": {},
   "outputs": [
    {
     "name": "stdout",
     "output_type": "stream",
     "text": [
      "Call-2 13\n"
     ]
    }
   ],
   "source": [
    "print('Call-2', add(4,6))"
   ]
  },
  {
   "cell_type": "code",
   "execution_count": 49,
   "id": "0da8ad9f-77f0-4131-9cbb-f6679c38cd1e",
   "metadata": {},
   "outputs": [
    {
     "name": "stdout",
     "output_type": "stream",
     "text": [
      "Call-1 14\n"
     ]
    }
   ],
   "source": [
    "print('Call-1', add(4))"
   ]
  },
  {
   "cell_type": "code",
   "execution_count": 51,
   "id": "25df8ac9-13b1-4364-ba2f-b6f0230da0c4",
   "metadata": {},
   "outputs": [
    {
     "name": "stdout",
     "output_type": "stream",
     "text": [
      "Call-1 15\n"
     ]
    }
   ],
   "source": [
    "print('Call-1', add())"
   ]
  },
  {
   "cell_type": "code",
   "execution_count": 57,
   "id": "b0c352a0-f281-47c8-8fce-ebe993deca86",
   "metadata": {},
   "outputs": [
    {
     "name": "stdout",
     "output_type": "stream",
     "text": [
      "Call-1 12\n"
     ]
    }
   ],
   "source": [
    "print('Call-1', add(y=4))"
   ]
  },
  {
   "cell_type": "code",
   "execution_count": 59,
   "id": "8ab18476-e4f9-411e-8f75-c81568aa7af8",
   "metadata": {},
   "outputs": [
    {
     "name": "stdout",
     "output_type": "stream",
     "text": [
      "Call-5 22\n"
     ]
    }
   ],
   "source": [
    "print('Call-5', add(z=10))"
   ]
  },
  {
   "cell_type": "code",
   "execution_count": null,
   "id": "db9add2f-264a-4fb3-81d7-1670025240a5",
   "metadata": {},
   "outputs": [],
   "source": []
  }
 ],
 "metadata": {
  "kernelspec": {
   "display_name": "Python 3 (ipykernel)",
   "language": "python",
   "name": "python3"
  },
  "language_info": {
   "codemirror_mode": {
    "name": "ipython",
    "version": 3
   },
   "file_extension": ".py",
   "mimetype": "text/x-python",
   "name": "python",
   "nbconvert_exporter": "python",
   "pygments_lexer": "ipython3",
   "version": "3.12.4"
  }
 },
 "nbformat": 4,
 "nbformat_minor": 5
}
